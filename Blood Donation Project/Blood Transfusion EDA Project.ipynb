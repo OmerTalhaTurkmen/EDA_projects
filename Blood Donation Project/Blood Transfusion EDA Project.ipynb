{
 "cells": [
  {
   "cell_type": "markdown",
   "id": "e30f06e2",
   "metadata": {},
   "source": [
    "# Blood Transfusion EDA Project"
   ]
  },
  {
   "cell_type": "markdown",
   "id": "d2fa0c2e",
   "metadata": {},
   "source": [
    "<p>From replacing blood lost during major surgery or a serious injury to treating various diseases and blood disorders, blood transfusions save lives. Ensuring that enough blood is available when it is needed is a serious challenge for health professionals. According to <a href=\"https://www.webmd.com/a-to-z-guides/blood-transfusion-what-to-know#1\">WebMD</a> about 5 million Americans need blood transfusions each year.</p>\n",
    "\n",
    "<p>The dataset is from a mobile blood donation vehicle in Taiwan.</p>"
   ]
  },
  {
   "cell_type": "markdown",
   "id": "a2756f57-5fb5-4174-8a25-ae7adc128790",
   "metadata": {},
   "source": [
    "# **Content**\n",
    "\n",
    "1. [Introduction](#1.)\n",
    "1. [Importing Libraries](#2.)\n",
    "1. [Reading the Dataset](#3.)\n",
    "1. [Exploratory Data Analysis](#4.)"
   ]
  },
  {
   "cell_type": "markdown",
   "id": "9d003841-23e1-49f6-82d4-407b3307b106",
   "metadata": {},
   "source": [
    "<a id=\"1.\"></a> \n",
    "# Introduction"
   ]
  },
  {
   "cell_type": "markdown",
   "id": "8915abb0",
   "metadata": {},
   "source": [
    "RFM is often used for customer segmentation and enables analysis of attributes such as when (Recency), how often (Frequency), and how much money customers spend (Monetary).\n",
    "\n",
    "These attributes are often adapted for customer lifetime value modeling, churn prediction, customer segmentation, etc.\n",
    "\n",
    "However, these features are used for blood donation, which is a social good.\n",
    "\n",
    "In this dataset:\n",
    "\n",
    "**RFMTC Components**\n",
    "\n",
    "1. **Recency (R) — \"Recency (months)\"**\n",
    "    - This characteristic represents how long it has been since a donor's last donation. Generally, donors whose last donation was more recent are more likely to donate again.\n",
    "  \n",
    "2. **Frequency (F) — \"Frequency (times)\"**\n",
    "    - This shows how often a donor donates blood. People who donate more frequently are generally more likely to donate in the future.\n",
    "  \n",
    "3. **Monetary (M) — \"Monetary (c.c. blood)\"**\n",
    "    - This attribute represents how much blood the donor has donated in total. Generally, donors who donate a higher amount of blood are considered to have a higher value.\n",
    "\n",
    "4. **Time (T) — \"Time (months)\"**\n",
    "    - This shows how long it has been since a donor's first donation. This can be used to understand how \"loyal\" the donor has been during the donation period.\n",
    "\n",
    "5. **Churn (C) — \"whether he/she donated blood in March 2007\"**\n",
    "    - This shows whether or not a donor donated in a specific period (March 2007). Churn, in this example, represents the probability that the donor did not donate in that period.\n",
    "\n",
    "**Uses of RFMTC**\n",
    "\n",
    "1. **Segmentation**: Donors can be categorized into different segments using these attributes. For example, donors with high \"F\" and low \"R\" values can be labeled as \"Loyal Donors\".\n",
    "\n",
    "2. **Forecasting**: The likelihood of future giving can be predicted using current RFMTC values.\n",
    "\n",
    "3. **Targeting**: Special campaigns or incentives can be used to target specific donor segments.\n",
    "\n",
    "4. **Risk Analysis**: Donors with low frequency and high churn rates can be labeled as \"Risky\", and specific strategies can be developed for these donors.\n",
    "\n",
    "This modeling technique is useful for understanding the future behavior of donors and managing them more effectively.\n",
    "\n",
    "It can be used to model the likelihood of donors donating blood in the future."
   ]
  },
  {
   "cell_type": "markdown",
   "id": "04f11be3",
   "metadata": {},
   "source": [
    "<a id=\"2.\"></a> \n",
    "# Importing Libraries"
   ]
  },
  {
   "cell_type": "code",
   "execution_count": 6,
   "id": "24a4d367",
   "metadata": {
    "ExecuteTime": {
     "end_time": "2023-09-18T18:03:47.300348Z",
     "start_time": "2023-09-18T18:03:45.966066Z"
    }
   },
   "outputs": [],
   "source": [
    "import numpy as np\n",
    "import pandas as pd"
   ]
  },
  {
   "cell_type": "markdown",
   "id": "aceacad1",
   "metadata": {},
   "source": [
    "# Exploratory Data Analysis"
   ]
  },
  {
   "cell_type": "code",
   "execution_count": 7,
   "id": "7e6dde0a",
   "metadata": {
    "ExecuteTime": {
     "end_time": "2023-09-18T18:03:56.397258Z",
     "start_time": "2023-09-18T18:03:56.326588Z"
    }
   },
   "outputs": [],
   "source": [
    "df = pd.read_csv(\"transfusion.data\")"
   ]
  },
  {
   "cell_type": "markdown",
   "id": "38956660",
   "metadata": {},
   "source": [
    "## Change the column names if necessary"
   ]
  },
  {
   "cell_type": "code",
   "execution_count": 8,
   "id": "6f8cfae8",
   "metadata": {
    "ExecuteTime": {
     "end_time": "2023-09-18T18:04:53.424909Z",
     "start_time": "2023-09-18T18:04:53.415788Z"
    }
   },
   "outputs": [],
   "source": [
    "new_column_names = {\n",
    "    'Recency (months)': 'Recency',\n",
    "    'Frequency (times)': 'Frequency',\n",
    "    'Monetary (c.c. blood)': 'Monetary',\n",
    "    'Time (months)': 'Time',\n",
    "    'whether he/she donated blood in March 2007': 'Target'\n",
    "                   }\n",
    "            \n",
    "df.rename(columns=new_column_names, inplace=True)"
   ]
  },
  {
   "cell_type": "markdown",
   "id": "07cbfedc",
   "metadata": {},
   "source": [
    "## Get the first 5 lines"
   ]
  },
  {
   "cell_type": "code",
   "execution_count": 9,
   "id": "d5989f80",
   "metadata": {
    "ExecuteTime": {
     "end_time": "2023-09-18T18:11:06.127072Z",
     "start_time": "2023-09-18T18:11:06.112080Z"
    }
   },
   "outputs": [
    {
     "data": {
      "text/html": [
       "<div>\n",
       "<style scoped>\n",
       "    .dataframe tbody tr th:only-of-type {\n",
       "        vertical-align: middle;\n",
       "    }\n",
       "\n",
       "    .dataframe tbody tr th {\n",
       "        vertical-align: top;\n",
       "    }\n",
       "\n",
       "    .dataframe thead th {\n",
       "        text-align: right;\n",
       "    }\n",
       "</style>\n",
       "<table border=\"1\" class=\"dataframe\">\n",
       "  <thead>\n",
       "    <tr style=\"text-align: right;\">\n",
       "      <th></th>\n",
       "      <th>Recency</th>\n",
       "      <th>Frequency</th>\n",
       "      <th>Monetary</th>\n",
       "      <th>Time</th>\n",
       "      <th>Target</th>\n",
       "    </tr>\n",
       "  </thead>\n",
       "  <tbody>\n",
       "    <tr>\n",
       "      <th>0</th>\n",
       "      <td>2</td>\n",
       "      <td>50</td>\n",
       "      <td>12500</td>\n",
       "      <td>98</td>\n",
       "      <td>1</td>\n",
       "    </tr>\n",
       "    <tr>\n",
       "      <th>1</th>\n",
       "      <td>0</td>\n",
       "      <td>13</td>\n",
       "      <td>3250</td>\n",
       "      <td>28</td>\n",
       "      <td>1</td>\n",
       "    </tr>\n",
       "    <tr>\n",
       "      <th>2</th>\n",
       "      <td>1</td>\n",
       "      <td>16</td>\n",
       "      <td>4000</td>\n",
       "      <td>35</td>\n",
       "      <td>1</td>\n",
       "    </tr>\n",
       "    <tr>\n",
       "      <th>3</th>\n",
       "      <td>2</td>\n",
       "      <td>20</td>\n",
       "      <td>5000</td>\n",
       "      <td>45</td>\n",
       "      <td>1</td>\n",
       "    </tr>\n",
       "    <tr>\n",
       "      <th>4</th>\n",
       "      <td>1</td>\n",
       "      <td>24</td>\n",
       "      <td>6000</td>\n",
       "      <td>77</td>\n",
       "      <td>0</td>\n",
       "    </tr>\n",
       "  </tbody>\n",
       "</table>\n",
       "</div>"
      ],
      "text/plain": [
       "   Recency  Frequency  Monetary  Time  Target\n",
       "0        2         50     12500    98       1\n",
       "1        0         13      3250    28       1\n",
       "2        1         16      4000    35       1\n",
       "3        2         20      5000    45       1\n",
       "4        1         24      6000    77       0"
      ]
     },
     "execution_count": 9,
     "metadata": {},
     "output_type": "execute_result"
    }
   ],
   "source": [
    "df.head(5)"
   ]
  },
  {
   "cell_type": "markdown",
   "id": "d7f71aa1",
   "metadata": {},
   "source": [
    "## Look at the general information"
   ]
  },
  {
   "cell_type": "code",
   "execution_count": 10,
   "id": "46e95c38",
   "metadata": {
    "ExecuteTime": {
     "end_time": "2023-09-18T18:12:01.304040Z",
     "start_time": "2023-09-18T18:12:01.275311Z"
    }
   },
   "outputs": [
    {
     "name": "stdout",
     "output_type": "stream",
     "text": [
      "<class 'pandas.core.frame.DataFrame'>\n",
      "RangeIndex: 748 entries, 0 to 747\n",
      "Data columns (total 5 columns):\n",
      " #   Column     Non-Null Count  Dtype\n",
      "---  ------     --------------  -----\n",
      " 0   Recency    748 non-null    int64\n",
      " 1   Frequency  748 non-null    int64\n",
      " 2   Monetary   748 non-null    int64\n",
      " 3   Time       748 non-null    int64\n",
      " 4   Target     748 non-null    int64\n",
      "dtypes: int64(5)\n",
      "memory usage: 29.3 KB\n"
     ]
    }
   ],
   "source": [
    "df.info()"
   ]
  },
  {
   "cell_type": "markdown",
   "id": "77ed0c1b",
   "metadata": {},
   "source": [
    "## Look at the shape"
   ]
  },
  {
   "cell_type": "code",
   "execution_count": 11,
   "id": "4140ddb2",
   "metadata": {
    "ExecuteTime": {
     "end_time": "2023-09-18T18:15:14.423165Z",
     "start_time": "2023-09-18T18:15:14.413039Z"
    }
   },
   "outputs": [
    {
     "data": {
      "text/plain": [
       "(748, 5)"
      ]
     },
     "execution_count": 11,
     "metadata": {},
     "output_type": "execute_result"
    }
   ],
   "source": [
    "df.shape"
   ]
  },
  {
   "cell_type": "markdown",
   "id": "d747fcce",
   "metadata": {},
   "source": [
    "## Check for missing values"
   ]
  },
  {
   "cell_type": "code",
   "execution_count": 12,
   "id": "24790c65",
   "metadata": {
    "ExecuteTime": {
     "end_time": "2023-09-18T18:17:10.199001Z",
     "start_time": "2023-09-18T18:17:10.169563Z"
    }
   },
   "outputs": [
    {
     "data": {
      "text/html": [
       "<div>\n",
       "<style scoped>\n",
       "    .dataframe tbody tr th:only-of-type {\n",
       "        vertical-align: middle;\n",
       "    }\n",
       "\n",
       "    .dataframe tbody tr th {\n",
       "        vertical-align: top;\n",
       "    }\n",
       "\n",
       "    .dataframe thead th {\n",
       "        text-align: right;\n",
       "    }\n",
       "</style>\n",
       "<table border=\"1\" class=\"dataframe\">\n",
       "  <thead>\n",
       "    <tr style=\"text-align: right;\">\n",
       "      <th></th>\n",
       "      <th>Recency</th>\n",
       "      <th>Frequency</th>\n",
       "      <th>Monetary</th>\n",
       "      <th>Time</th>\n",
       "      <th>Target</th>\n",
       "    </tr>\n",
       "  </thead>\n",
       "  <tbody>\n",
       "    <tr>\n",
       "      <th>0</th>\n",
       "      <td>False</td>\n",
       "      <td>False</td>\n",
       "      <td>False</td>\n",
       "      <td>False</td>\n",
       "      <td>False</td>\n",
       "    </tr>\n",
       "    <tr>\n",
       "      <th>1</th>\n",
       "      <td>False</td>\n",
       "      <td>False</td>\n",
       "      <td>False</td>\n",
       "      <td>False</td>\n",
       "      <td>False</td>\n",
       "    </tr>\n",
       "    <tr>\n",
       "      <th>2</th>\n",
       "      <td>False</td>\n",
       "      <td>False</td>\n",
       "      <td>False</td>\n",
       "      <td>False</td>\n",
       "      <td>False</td>\n",
       "    </tr>\n",
       "    <tr>\n",
       "      <th>3</th>\n",
       "      <td>False</td>\n",
       "      <td>False</td>\n",
       "      <td>False</td>\n",
       "      <td>False</td>\n",
       "      <td>False</td>\n",
       "    </tr>\n",
       "    <tr>\n",
       "      <th>4</th>\n",
       "      <td>False</td>\n",
       "      <td>False</td>\n",
       "      <td>False</td>\n",
       "      <td>False</td>\n",
       "      <td>False</td>\n",
       "    </tr>\n",
       "    <tr>\n",
       "      <th>...</th>\n",
       "      <td>...</td>\n",
       "      <td>...</td>\n",
       "      <td>...</td>\n",
       "      <td>...</td>\n",
       "      <td>...</td>\n",
       "    </tr>\n",
       "    <tr>\n",
       "      <th>743</th>\n",
       "      <td>False</td>\n",
       "      <td>False</td>\n",
       "      <td>False</td>\n",
       "      <td>False</td>\n",
       "      <td>False</td>\n",
       "    </tr>\n",
       "    <tr>\n",
       "      <th>744</th>\n",
       "      <td>False</td>\n",
       "      <td>False</td>\n",
       "      <td>False</td>\n",
       "      <td>False</td>\n",
       "      <td>False</td>\n",
       "    </tr>\n",
       "    <tr>\n",
       "      <th>745</th>\n",
       "      <td>False</td>\n",
       "      <td>False</td>\n",
       "      <td>False</td>\n",
       "      <td>False</td>\n",
       "      <td>False</td>\n",
       "    </tr>\n",
       "    <tr>\n",
       "      <th>746</th>\n",
       "      <td>False</td>\n",
       "      <td>False</td>\n",
       "      <td>False</td>\n",
       "      <td>False</td>\n",
       "      <td>False</td>\n",
       "    </tr>\n",
       "    <tr>\n",
       "      <th>747</th>\n",
       "      <td>False</td>\n",
       "      <td>False</td>\n",
       "      <td>False</td>\n",
       "      <td>False</td>\n",
       "      <td>False</td>\n",
       "    </tr>\n",
       "  </tbody>\n",
       "</table>\n",
       "<p>748 rows × 5 columns</p>\n",
       "</div>"
      ],
      "text/plain": [
       "     Recency  Frequency  Monetary   Time  Target\n",
       "0      False      False     False  False   False\n",
       "1      False      False     False  False   False\n",
       "2      False      False     False  False   False\n",
       "3      False      False     False  False   False\n",
       "4      False      False     False  False   False\n",
       "..       ...        ...       ...    ...     ...\n",
       "743    False      False     False  False   False\n",
       "744    False      False     False  False   False\n",
       "745    False      False     False  False   False\n",
       "746    False      False     False  False   False\n",
       "747    False      False     False  False   False\n",
       "\n",
       "[748 rows x 5 columns]"
      ]
     },
     "execution_count": 12,
     "metadata": {},
     "output_type": "execute_result"
    }
   ],
   "source": [
    "df.isnull()"
   ]
  },
  {
   "cell_type": "code",
   "execution_count": 13,
   "id": "07daa6f9",
   "metadata": {},
   "outputs": [
    {
     "data": {
      "text/plain": [
       "Recency      0\n",
       "Frequency    0\n",
       "Monetary     0\n",
       "Time         0\n",
       "Target       0\n",
       "dtype: int64"
      ]
     },
     "execution_count": 13,
     "metadata": {},
     "output_type": "execute_result"
    }
   ],
   "source": [
    "df.isnull().sum()"
   ]
  },
  {
   "cell_type": "markdown",
   "id": "a188236a",
   "metadata": {},
   "source": [
    "## Check for duplicated values"
   ]
  },
  {
   "cell_type": "code",
   "execution_count": 14,
   "id": "3ad5f73c",
   "metadata": {},
   "outputs": [
    {
     "data": {
      "text/html": [
       "<div>\n",
       "<style scoped>\n",
       "    .dataframe tbody tr th:only-of-type {\n",
       "        vertical-align: middle;\n",
       "    }\n",
       "\n",
       "    .dataframe tbody tr th {\n",
       "        vertical-align: top;\n",
       "    }\n",
       "\n",
       "    .dataframe thead th {\n",
       "        text-align: right;\n",
       "    }\n",
       "</style>\n",
       "<table border=\"1\" class=\"dataframe\">\n",
       "  <thead>\n",
       "    <tr style=\"text-align: right;\">\n",
       "      <th></th>\n",
       "      <th>Recency</th>\n",
       "      <th>Frequency</th>\n",
       "      <th>Monetary</th>\n",
       "      <th>Time</th>\n",
       "      <th>Target</th>\n",
       "    </tr>\n",
       "  </thead>\n",
       "  <tbody>\n",
       "    <tr>\n",
       "      <th>18</th>\n",
       "      <td>2</td>\n",
       "      <td>6</td>\n",
       "      <td>1500</td>\n",
       "      <td>15</td>\n",
       "      <td>1</td>\n",
       "    </tr>\n",
       "    <tr>\n",
       "      <th>20</th>\n",
       "      <td>2</td>\n",
       "      <td>3</td>\n",
       "      <td>750</td>\n",
       "      <td>4</td>\n",
       "      <td>1</td>\n",
       "    </tr>\n",
       "    <tr>\n",
       "      <th>23</th>\n",
       "      <td>2</td>\n",
       "      <td>6</td>\n",
       "      <td>1500</td>\n",
       "      <td>16</td>\n",
       "      <td>1</td>\n",
       "    </tr>\n",
       "    <tr>\n",
       "      <th>32</th>\n",
       "      <td>4</td>\n",
       "      <td>10</td>\n",
       "      <td>2500</td>\n",
       "      <td>28</td>\n",
       "      <td>1</td>\n",
       "    </tr>\n",
       "    <tr>\n",
       "      <th>43</th>\n",
       "      <td>2</td>\n",
       "      <td>5</td>\n",
       "      <td>1250</td>\n",
       "      <td>16</td>\n",
       "      <td>0</td>\n",
       "    </tr>\n",
       "    <tr>\n",
       "      <th>...</th>\n",
       "      <td>...</td>\n",
       "      <td>...</td>\n",
       "      <td>...</td>\n",
       "      <td>...</td>\n",
       "      <td>...</td>\n",
       "    </tr>\n",
       "    <tr>\n",
       "      <th>735</th>\n",
       "      <td>23</td>\n",
       "      <td>1</td>\n",
       "      <td>250</td>\n",
       "      <td>23</td>\n",
       "      <td>0</td>\n",
       "    </tr>\n",
       "    <tr>\n",
       "      <th>736</th>\n",
       "      <td>23</td>\n",
       "      <td>1</td>\n",
       "      <td>250</td>\n",
       "      <td>23</td>\n",
       "      <td>0</td>\n",
       "    </tr>\n",
       "    <tr>\n",
       "      <th>737</th>\n",
       "      <td>23</td>\n",
       "      <td>1</td>\n",
       "      <td>250</td>\n",
       "      <td>23</td>\n",
       "      <td>0</td>\n",
       "    </tr>\n",
       "    <tr>\n",
       "      <th>738</th>\n",
       "      <td>23</td>\n",
       "      <td>1</td>\n",
       "      <td>250</td>\n",
       "      <td>23</td>\n",
       "      <td>0</td>\n",
       "    </tr>\n",
       "    <tr>\n",
       "      <th>740</th>\n",
       "      <td>23</td>\n",
       "      <td>1</td>\n",
       "      <td>250</td>\n",
       "      <td>23</td>\n",
       "      <td>0</td>\n",
       "    </tr>\n",
       "  </tbody>\n",
       "</table>\n",
       "<p>215 rows × 5 columns</p>\n",
       "</div>"
      ],
      "text/plain": [
       "     Recency  Frequency  Monetary  Time  Target\n",
       "18         2          6      1500    15       1\n",
       "20         2          3       750     4       1\n",
       "23         2          6      1500    16       1\n",
       "32         4         10      2500    28       1\n",
       "43         2          5      1250    16       0\n",
       "..       ...        ...       ...   ...     ...\n",
       "735       23          1       250    23       0\n",
       "736       23          1       250    23       0\n",
       "737       23          1       250    23       0\n",
       "738       23          1       250    23       0\n",
       "740       23          1       250    23       0\n",
       "\n",
       "[215 rows x 5 columns]"
      ]
     },
     "execution_count": 14,
     "metadata": {},
     "output_type": "execute_result"
    }
   ],
   "source": [
    "df[df.duplicated()]"
   ]
  },
  {
   "cell_type": "code",
   "execution_count": 15,
   "id": "4156be28",
   "metadata": {
    "ExecuteTime": {
     "end_time": "2023-09-18T18:20:20.776110Z",
     "start_time": "2023-09-18T18:20:20.762590Z"
    }
   },
   "outputs": [
    {
     "data": {
      "text/plain": [
       "215"
      ]
     },
     "execution_count": 15,
     "metadata": {},
     "output_type": "execute_result"
    }
   ],
   "source": [
    "df.duplicated().sum()"
   ]
  },
  {
   "cell_type": "markdown",
   "id": "395fa96f",
   "metadata": {},
   "source": [
    "## Check the dtype"
   ]
  },
  {
   "cell_type": "code",
   "execution_count": 16,
   "id": "7fd33edb",
   "metadata": {
    "ExecuteTime": {
     "end_time": "2023-09-18T18:34:38.721483Z",
     "start_time": "2023-09-18T18:34:38.708460Z"
    }
   },
   "outputs": [
    {
     "data": {
      "text/plain": [
       "Recency      int64\n",
       "Frequency    int64\n",
       "Monetary     int64\n",
       "Time         int64\n",
       "Target       int64\n",
       "dtype: object"
      ]
     },
     "execution_count": 16,
     "metadata": {},
     "output_type": "execute_result"
    }
   ],
   "source": [
    "df.dtypes"
   ]
  },
  {
   "cell_type": "markdown",
   "id": "3fb1afe8",
   "metadata": {},
   "source": [
    "## Calculate the basic statistical values"
   ]
  },
  {
   "cell_type": "code",
   "execution_count": 17,
   "id": "6e1d8a87",
   "metadata": {
    "ExecuteTime": {
     "end_time": "2023-09-18T18:35:36.869143Z",
     "start_time": "2023-09-18T18:35:36.771630Z"
    }
   },
   "outputs": [
    {
     "data": {
      "text/html": [
       "<div>\n",
       "<style scoped>\n",
       "    .dataframe tbody tr th:only-of-type {\n",
       "        vertical-align: middle;\n",
       "    }\n",
       "\n",
       "    .dataframe tbody tr th {\n",
       "        vertical-align: top;\n",
       "    }\n",
       "\n",
       "    .dataframe thead th {\n",
       "        text-align: right;\n",
       "    }\n",
       "</style>\n",
       "<table border=\"1\" class=\"dataframe\">\n",
       "  <thead>\n",
       "    <tr style=\"text-align: right;\">\n",
       "      <th></th>\n",
       "      <th>Recency</th>\n",
       "      <th>Frequency</th>\n",
       "      <th>Monetary</th>\n",
       "      <th>Time</th>\n",
       "      <th>Target</th>\n",
       "    </tr>\n",
       "  </thead>\n",
       "  <tbody>\n",
       "    <tr>\n",
       "      <th>count</th>\n",
       "      <td>748.000000</td>\n",
       "      <td>748.000000</td>\n",
       "      <td>748.000000</td>\n",
       "      <td>748.000000</td>\n",
       "      <td>748.000000</td>\n",
       "    </tr>\n",
       "    <tr>\n",
       "      <th>mean</th>\n",
       "      <td>9.506684</td>\n",
       "      <td>5.514706</td>\n",
       "      <td>1378.676471</td>\n",
       "      <td>34.282086</td>\n",
       "      <td>0.237968</td>\n",
       "    </tr>\n",
       "    <tr>\n",
       "      <th>std</th>\n",
       "      <td>8.095396</td>\n",
       "      <td>5.839307</td>\n",
       "      <td>1459.826781</td>\n",
       "      <td>24.376714</td>\n",
       "      <td>0.426124</td>\n",
       "    </tr>\n",
       "    <tr>\n",
       "      <th>min</th>\n",
       "      <td>0.000000</td>\n",
       "      <td>1.000000</td>\n",
       "      <td>250.000000</td>\n",
       "      <td>2.000000</td>\n",
       "      <td>0.000000</td>\n",
       "    </tr>\n",
       "    <tr>\n",
       "      <th>25%</th>\n",
       "      <td>2.750000</td>\n",
       "      <td>2.000000</td>\n",
       "      <td>500.000000</td>\n",
       "      <td>16.000000</td>\n",
       "      <td>0.000000</td>\n",
       "    </tr>\n",
       "    <tr>\n",
       "      <th>50%</th>\n",
       "      <td>7.000000</td>\n",
       "      <td>4.000000</td>\n",
       "      <td>1000.000000</td>\n",
       "      <td>28.000000</td>\n",
       "      <td>0.000000</td>\n",
       "    </tr>\n",
       "    <tr>\n",
       "      <th>75%</th>\n",
       "      <td>14.000000</td>\n",
       "      <td>7.000000</td>\n",
       "      <td>1750.000000</td>\n",
       "      <td>50.000000</td>\n",
       "      <td>0.000000</td>\n",
       "    </tr>\n",
       "    <tr>\n",
       "      <th>max</th>\n",
       "      <td>74.000000</td>\n",
       "      <td>50.000000</td>\n",
       "      <td>12500.000000</td>\n",
       "      <td>98.000000</td>\n",
       "      <td>1.000000</td>\n",
       "    </tr>\n",
       "  </tbody>\n",
       "</table>\n",
       "</div>"
      ],
      "text/plain": [
       "          Recency   Frequency      Monetary        Time      Target\n",
       "count  748.000000  748.000000    748.000000  748.000000  748.000000\n",
       "mean     9.506684    5.514706   1378.676471   34.282086    0.237968\n",
       "std      8.095396    5.839307   1459.826781   24.376714    0.426124\n",
       "min      0.000000    1.000000    250.000000    2.000000    0.000000\n",
       "25%      2.750000    2.000000    500.000000   16.000000    0.000000\n",
       "50%      7.000000    4.000000   1000.000000   28.000000    0.000000\n",
       "75%     14.000000    7.000000   1750.000000   50.000000    0.000000\n",
       "max     74.000000   50.000000  12500.000000   98.000000    1.000000"
      ]
     },
     "execution_count": 17,
     "metadata": {},
     "output_type": "execute_result"
    }
   ],
   "source": [
    "df.describe()"
   ]
  },
  {
   "cell_type": "code",
   "execution_count": 18,
   "id": "6b928626",
   "metadata": {},
   "outputs": [
    {
     "data": {
      "text/html": [
       "<div>\n",
       "<style scoped>\n",
       "    .dataframe tbody tr th:only-of-type {\n",
       "        vertical-align: middle;\n",
       "    }\n",
       "\n",
       "    .dataframe tbody tr th {\n",
       "        vertical-align: top;\n",
       "    }\n",
       "\n",
       "    .dataframe thead th {\n",
       "        text-align: right;\n",
       "    }\n",
       "</style>\n",
       "<table border=\"1\" class=\"dataframe\">\n",
       "  <thead>\n",
       "    <tr style=\"text-align: right;\">\n",
       "      <th></th>\n",
       "      <th>count</th>\n",
       "      <th>mean</th>\n",
       "      <th>std</th>\n",
       "      <th>min</th>\n",
       "      <th>25%</th>\n",
       "      <th>50%</th>\n",
       "      <th>75%</th>\n",
       "      <th>max</th>\n",
       "    </tr>\n",
       "  </thead>\n",
       "  <tbody>\n",
       "    <tr>\n",
       "      <th>Recency</th>\n",
       "      <td>748.0</td>\n",
       "      <td>9.506684</td>\n",
       "      <td>8.095396</td>\n",
       "      <td>0.0</td>\n",
       "      <td>2.75</td>\n",
       "      <td>7.0</td>\n",
       "      <td>14.0</td>\n",
       "      <td>74.0</td>\n",
       "    </tr>\n",
       "    <tr>\n",
       "      <th>Frequency</th>\n",
       "      <td>748.0</td>\n",
       "      <td>5.514706</td>\n",
       "      <td>5.839307</td>\n",
       "      <td>1.0</td>\n",
       "      <td>2.00</td>\n",
       "      <td>4.0</td>\n",
       "      <td>7.0</td>\n",
       "      <td>50.0</td>\n",
       "    </tr>\n",
       "    <tr>\n",
       "      <th>Monetary</th>\n",
       "      <td>748.0</td>\n",
       "      <td>1378.676471</td>\n",
       "      <td>1459.826781</td>\n",
       "      <td>250.0</td>\n",
       "      <td>500.00</td>\n",
       "      <td>1000.0</td>\n",
       "      <td>1750.0</td>\n",
       "      <td>12500.0</td>\n",
       "    </tr>\n",
       "    <tr>\n",
       "      <th>Time</th>\n",
       "      <td>748.0</td>\n",
       "      <td>34.282086</td>\n",
       "      <td>24.376714</td>\n",
       "      <td>2.0</td>\n",
       "      <td>16.00</td>\n",
       "      <td>28.0</td>\n",
       "      <td>50.0</td>\n",
       "      <td>98.0</td>\n",
       "    </tr>\n",
       "    <tr>\n",
       "      <th>Target</th>\n",
       "      <td>748.0</td>\n",
       "      <td>0.237968</td>\n",
       "      <td>0.426124</td>\n",
       "      <td>0.0</td>\n",
       "      <td>0.00</td>\n",
       "      <td>0.0</td>\n",
       "      <td>0.0</td>\n",
       "      <td>1.0</td>\n",
       "    </tr>\n",
       "  </tbody>\n",
       "</table>\n",
       "</div>"
      ],
      "text/plain": [
       "           count         mean          std    min     25%     50%     75%  \\\n",
       "Recency    748.0     9.506684     8.095396    0.0    2.75     7.0    14.0   \n",
       "Frequency  748.0     5.514706     5.839307    1.0    2.00     4.0     7.0   \n",
       "Monetary   748.0  1378.676471  1459.826781  250.0  500.00  1000.0  1750.0   \n",
       "Time       748.0    34.282086    24.376714    2.0   16.00    28.0    50.0   \n",
       "Target     748.0     0.237968     0.426124    0.0    0.00     0.0     0.0   \n",
       "\n",
       "               max  \n",
       "Recency       74.0  \n",
       "Frequency     50.0  \n",
       "Monetary   12500.0  \n",
       "Time          98.0  \n",
       "Target         1.0  "
      ]
     },
     "execution_count": 18,
     "metadata": {},
     "output_type": "execute_result"
    }
   ],
   "source": [
    "df.describe().T"
   ]
  },
  {
   "cell_type": "markdown",
   "id": "fa4b439b",
   "metadata": {},
   "source": [
    "## Check unique values"
   ]
  },
  {
   "cell_type": "code",
   "execution_count": 19,
   "id": "cf27aa31",
   "metadata": {
    "ExecuteTime": {
     "end_time": "2023-09-18T18:46:11.842415Z",
     "start_time": "2023-09-18T18:46:11.832367Z"
    }
   },
   "outputs": [
    {
     "data": {
      "text/plain": [
       "array([ 2,  0,  1,  4,  5,  9,  3, 12,  6, 11, 10, 13,  8, 14,  7, 16, 15,\n",
       "       23, 21, 18, 22, 26, 35, 38, 40, 74, 20, 17, 25, 39, 72],\n",
       "      dtype=int64)"
      ]
     },
     "execution_count": 19,
     "metadata": {},
     "output_type": "execute_result"
    }
   ],
   "source": [
    "df.Recency.unique()"
   ]
  },
  {
   "cell_type": "code",
   "execution_count": 20,
   "id": "17e738f2",
   "metadata": {},
   "outputs": [
    {
     "data": {
      "text/plain": [
       "31"
      ]
     },
     "execution_count": 20,
     "metadata": {},
     "output_type": "execute_result"
    }
   ],
   "source": [
    "df.Recency.nunique()"
   ]
  },
  {
   "cell_type": "code",
   "execution_count": 21,
   "id": "622f54d1",
   "metadata": {},
   "outputs": [
    {
     "data": {
      "text/plain": [
       "array([1, 0], dtype=int64)"
      ]
     },
     "execution_count": 21,
     "metadata": {},
     "output_type": "execute_result"
    }
   ],
   "source": [
    "df.Target.unique()"
   ]
  },
  {
   "cell_type": "code",
   "execution_count": 22,
   "id": "8688e45e",
   "metadata": {},
   "outputs": [
    {
     "data": {
      "text/plain": [
       "2"
      ]
     },
     "execution_count": 22,
     "metadata": {},
     "output_type": "execute_result"
    }
   ],
   "source": [
    "df.Target.nunique()"
   ]
  },
  {
   "cell_type": "markdown",
   "id": "1ffb749a",
   "metadata": {},
   "source": [
    "## Calculate the average of 'Recency'"
   ]
  },
  {
   "cell_type": "code",
   "execution_count": 23,
   "id": "9f633a3a",
   "metadata": {
    "ExecuteTime": {
     "end_time": "2023-09-18T18:48:36.728653Z",
     "start_time": "2023-09-18T18:48:36.721441Z"
    }
   },
   "outputs": [
    {
     "data": {
      "text/plain": [
       "9.506684491978609"
      ]
     },
     "execution_count": 23,
     "metadata": {},
     "output_type": "execute_result"
    }
   ],
   "source": [
    "df.Recency.mean()"
   ]
  },
  {
   "cell_type": "markdown",
   "id": "4bb9ac76",
   "metadata": {},
   "source": [
    "## Find the highest value in 'Frequency'"
   ]
  },
  {
   "cell_type": "code",
   "execution_count": 24,
   "id": "98e8fffd",
   "metadata": {
    "ExecuteTime": {
     "end_time": "2023-09-18T18:49:18.765738Z",
     "start_time": "2023-09-18T18:49:18.758283Z"
    }
   },
   "outputs": [
    {
     "data": {
      "text/plain": [
       "50"
      ]
     },
     "execution_count": 24,
     "metadata": {},
     "output_type": "execute_result"
    }
   ],
   "source": [
    "df.Frequency.max()"
   ]
  },
  {
   "cell_type": "markdown",
   "id": "bd9a78fc",
   "metadata": {},
   "source": [
    "## Calculate the median of 'Time'"
   ]
  },
  {
   "cell_type": "code",
   "execution_count": 25,
   "id": "131b6d73",
   "metadata": {
    "ExecuteTime": {
     "end_time": "2023-09-18T18:49:56.198362Z",
     "start_time": "2023-09-18T18:49:56.187918Z"
    }
   },
   "outputs": [
    {
     "data": {
      "text/plain": [
       "28.0"
      ]
     },
     "execution_count": 25,
     "metadata": {},
     "output_type": "execute_result"
    }
   ],
   "source": [
    "df.Time.median()"
   ]
  },
  {
   "cell_type": "markdown",
   "id": "3b9dd3d5",
   "metadata": {},
   "source": [
    "## Calculate the standard deviation of 'Monetary'"
   ]
  },
  {
   "cell_type": "code",
   "execution_count": 26,
   "id": "6b378aa9",
   "metadata": {
    "ExecuteTime": {
     "end_time": "2023-09-18T18:53:39.295970Z",
     "start_time": "2023-09-18T18:53:39.285229Z"
    }
   },
   "outputs": [
    {
     "data": {
      "text/plain": [
       "1459.826780772503"
      ]
     },
     "execution_count": 26,
     "metadata": {},
     "output_type": "execute_result"
    }
   ],
   "source": [
    "df.Monetary.std()"
   ]
  },
  {
   "cell_type": "markdown",
   "id": "b2f92cae",
   "metadata": {},
   "source": [
    "## Count the number of unique values in 'Time'"
   ]
  },
  {
   "cell_type": "code",
   "execution_count": 27,
   "id": "ceb5de5e",
   "metadata": {
    "ExecuteTime": {
     "end_time": "2023-09-18T19:00:29.684969Z",
     "start_time": "2023-09-18T19:00:29.675625Z"
    }
   },
   "outputs": [
    {
     "data": {
      "text/plain": [
       "array([98, 28, 35, 45, 77,  4, 14, 22, 58, 47, 15, 11, 48, 49, 16, 40, 34,\n",
       "       21, 26, 64, 57, 53, 69, 36,  2, 46, 52, 81, 29,  9, 74, 25, 51, 71,\n",
       "       23, 86, 38, 76, 70, 59, 82, 61, 79, 41, 33, 10, 95, 88, 19, 37, 39,\n",
       "       78, 42, 27, 24, 63, 43, 75, 73, 50, 60, 17, 72, 62, 30, 31, 65, 89,\n",
       "       87, 93, 83, 32, 12, 18, 55,  3, 13, 54], dtype=int64)"
      ]
     },
     "execution_count": 27,
     "metadata": {},
     "output_type": "execute_result"
    }
   ],
   "source": [
    "df.Time.unique()"
   ]
  },
  {
   "cell_type": "code",
   "execution_count": 28,
   "id": "fb7da5ea",
   "metadata": {},
   "outputs": [
    {
     "data": {
      "text/plain": [
       "78"
      ]
     },
     "execution_count": 28,
     "metadata": {},
     "output_type": "execute_result"
    }
   ],
   "source": [
    "df.Time.nunique()"
   ]
  },
  {
   "cell_type": "markdown",
   "id": "10fdfc75",
   "metadata": {},
   "source": [
    "## Calculate the ratio of donors in March 2007 (Target=1) to total donors"
   ]
  },
  {
   "cell_type": "code",
   "execution_count": 29,
   "id": "9a271a1d",
   "metadata": {
    "ExecuteTime": {
     "end_time": "2023-09-18T19:03:59.962639Z",
     "start_time": "2023-09-18T19:03:59.949649Z"
    }
   },
   "outputs": [
    {
     "data": {
      "text/plain": [
       "178"
      ]
     },
     "execution_count": 29,
     "metadata": {},
     "output_type": "execute_result"
    }
   ],
   "source": [
    "df[df[\"Target\"] == 1].count()[0]"
   ]
  },
  {
   "cell_type": "code",
   "execution_count": 30,
   "id": "c823de7a",
   "metadata": {},
   "outputs": [
    {
     "data": {
      "text/plain": [
       "0.23796791443850268"
      ]
     },
     "execution_count": 30,
     "metadata": {},
     "output_type": "execute_result"
    }
   ],
   "source": [
    "df[df[\"Target\"] == 1].count()[0] / len(df)"
   ]
  },
  {
   "cell_type": "code",
   "execution_count": 31,
   "id": "52c12347",
   "metadata": {},
   "outputs": [
    {
     "data": {
      "text/plain": [
       "Target\n",
       "0    570\n",
       "1    178\n",
       "Name: count, dtype: int64"
      ]
     },
     "execution_count": 31,
     "metadata": {},
     "output_type": "execute_result"
    }
   ],
   "source": [
    "df.Target.value_counts()"
   ]
  },
  {
   "cell_type": "code",
   "execution_count": 32,
   "id": "9ad02029",
   "metadata": {},
   "outputs": [
    {
     "data": {
      "text/plain": [
       "Target\n",
       "0    0.762032\n",
       "1    0.237968\n",
       "Name: proportion, dtype: float64"
      ]
     },
     "execution_count": 32,
     "metadata": {},
     "output_type": "execute_result"
    }
   ],
   "source": [
    "df.Target.value_counts(normalize=True)"
   ]
  },
  {
   "cell_type": "markdown",
   "id": "3ac55e2c",
   "metadata": {},
   "source": [
    "## Filter donors with 'Recency' less than 10 months"
   ]
  },
  {
   "cell_type": "code",
   "execution_count": 33,
   "id": "af549d50",
   "metadata": {
    "ExecuteTime": {
     "end_time": "2023-09-18T19:07:56.907556Z",
     "start_time": "2023-09-18T19:07:56.899637Z"
    }
   },
   "outputs": [
    {
     "data": {
      "text/html": [
       "<div>\n",
       "<style scoped>\n",
       "    .dataframe tbody tr th:only-of-type {\n",
       "        vertical-align: middle;\n",
       "    }\n",
       "\n",
       "    .dataframe tbody tr th {\n",
       "        vertical-align: top;\n",
       "    }\n",
       "\n",
       "    .dataframe thead th {\n",
       "        text-align: right;\n",
       "    }\n",
       "</style>\n",
       "<table border=\"1\" class=\"dataframe\">\n",
       "  <thead>\n",
       "    <tr style=\"text-align: right;\">\n",
       "      <th></th>\n",
       "      <th>Recency</th>\n",
       "      <th>Frequency</th>\n",
       "      <th>Monetary</th>\n",
       "      <th>Time</th>\n",
       "      <th>Target</th>\n",
       "    </tr>\n",
       "  </thead>\n",
       "  <tbody>\n",
       "    <tr>\n",
       "      <th>0</th>\n",
       "      <td>2</td>\n",
       "      <td>50</td>\n",
       "      <td>12500</td>\n",
       "      <td>98</td>\n",
       "      <td>1</td>\n",
       "    </tr>\n",
       "    <tr>\n",
       "      <th>1</th>\n",
       "      <td>0</td>\n",
       "      <td>13</td>\n",
       "      <td>3250</td>\n",
       "      <td>28</td>\n",
       "      <td>1</td>\n",
       "    </tr>\n",
       "    <tr>\n",
       "      <th>2</th>\n",
       "      <td>1</td>\n",
       "      <td>16</td>\n",
       "      <td>4000</td>\n",
       "      <td>35</td>\n",
       "      <td>1</td>\n",
       "    </tr>\n",
       "    <tr>\n",
       "      <th>3</th>\n",
       "      <td>2</td>\n",
       "      <td>20</td>\n",
       "      <td>5000</td>\n",
       "      <td>45</td>\n",
       "      <td>1</td>\n",
       "    </tr>\n",
       "    <tr>\n",
       "      <th>4</th>\n",
       "      <td>1</td>\n",
       "      <td>24</td>\n",
       "      <td>6000</td>\n",
       "      <td>77</td>\n",
       "      <td>0</td>\n",
       "    </tr>\n",
       "    <tr>\n",
       "      <th>...</th>\n",
       "      <td>...</td>\n",
       "      <td>...</td>\n",
       "      <td>...</td>\n",
       "      <td>...</td>\n",
       "      <td>...</td>\n",
       "    </tr>\n",
       "    <tr>\n",
       "      <th>653</th>\n",
       "      <td>4</td>\n",
       "      <td>2</td>\n",
       "      <td>500</td>\n",
       "      <td>30</td>\n",
       "      <td>0</td>\n",
       "    </tr>\n",
       "    <tr>\n",
       "      <th>656</th>\n",
       "      <td>4</td>\n",
       "      <td>2</td>\n",
       "      <td>500</td>\n",
       "      <td>31</td>\n",
       "      <td>0</td>\n",
       "    </tr>\n",
       "    <tr>\n",
       "      <th>669</th>\n",
       "      <td>2</td>\n",
       "      <td>3</td>\n",
       "      <td>750</td>\n",
       "      <td>75</td>\n",
       "      <td>1</td>\n",
       "    </tr>\n",
       "    <tr>\n",
       "      <th>670</th>\n",
       "      <td>2</td>\n",
       "      <td>3</td>\n",
       "      <td>750</td>\n",
       "      <td>77</td>\n",
       "      <td>0</td>\n",
       "    </tr>\n",
       "    <tr>\n",
       "      <th>681</th>\n",
       "      <td>4</td>\n",
       "      <td>2</td>\n",
       "      <td>500</td>\n",
       "      <td>46</td>\n",
       "      <td>0</td>\n",
       "    </tr>\n",
       "  </tbody>\n",
       "</table>\n",
       "<p>401 rows × 5 columns</p>\n",
       "</div>"
      ],
      "text/plain": [
       "     Recency  Frequency  Monetary  Time  Target\n",
       "0          2         50     12500    98       1\n",
       "1          0         13      3250    28       1\n",
       "2          1         16      4000    35       1\n",
       "3          2         20      5000    45       1\n",
       "4          1         24      6000    77       0\n",
       "..       ...        ...       ...   ...     ...\n",
       "653        4          2       500    30       0\n",
       "656        4          2       500    31       0\n",
       "669        2          3       750    75       1\n",
       "670        2          3       750    77       0\n",
       "681        4          2       500    46       0\n",
       "\n",
       "[401 rows x 5 columns]"
      ]
     },
     "execution_count": 33,
     "metadata": {},
     "output_type": "execute_result"
    }
   ],
   "source": [
    "df[df[\"Recency\"] < 10]"
   ]
  },
  {
   "cell_type": "code",
   "execution_count": 34,
   "id": "9f67f5b4",
   "metadata": {},
   "outputs": [
    {
     "data": {
      "text/plain": [
       "401"
      ]
     },
     "execution_count": 34,
     "metadata": {},
     "output_type": "execute_result"
    }
   ],
   "source": [
    "len(df[df[\"Recency\"] < 10])"
   ]
  },
  {
   "cell_type": "markdown",
   "id": "08e5d37d",
   "metadata": {},
   "source": [
    "## Select donors who donated at least 5 times"
   ]
  },
  {
   "cell_type": "code",
   "execution_count": 35,
   "id": "2ed404bc",
   "metadata": {
    "ExecuteTime": {
     "end_time": "2023-09-18T19:11:43.280928Z",
     "start_time": "2023-09-18T19:11:43.256952Z"
    }
   },
   "outputs": [
    {
     "data": {
      "text/html": [
       "<div>\n",
       "<style scoped>\n",
       "    .dataframe tbody tr th:only-of-type {\n",
       "        vertical-align: middle;\n",
       "    }\n",
       "\n",
       "    .dataframe tbody tr th {\n",
       "        vertical-align: top;\n",
       "    }\n",
       "\n",
       "    .dataframe thead th {\n",
       "        text-align: right;\n",
       "    }\n",
       "</style>\n",
       "<table border=\"1\" class=\"dataframe\">\n",
       "  <thead>\n",
       "    <tr style=\"text-align: right;\">\n",
       "      <th></th>\n",
       "      <th>Recency</th>\n",
       "      <th>Frequency</th>\n",
       "      <th>Monetary</th>\n",
       "      <th>Time</th>\n",
       "      <th>Target</th>\n",
       "    </tr>\n",
       "  </thead>\n",
       "  <tbody>\n",
       "    <tr>\n",
       "      <th>0</th>\n",
       "      <td>2</td>\n",
       "      <td>50</td>\n",
       "      <td>12500</td>\n",
       "      <td>98</td>\n",
       "      <td>1</td>\n",
       "    </tr>\n",
       "    <tr>\n",
       "      <th>1</th>\n",
       "      <td>0</td>\n",
       "      <td>13</td>\n",
       "      <td>3250</td>\n",
       "      <td>28</td>\n",
       "      <td>1</td>\n",
       "    </tr>\n",
       "    <tr>\n",
       "      <th>2</th>\n",
       "      <td>1</td>\n",
       "      <td>16</td>\n",
       "      <td>4000</td>\n",
       "      <td>35</td>\n",
       "      <td>1</td>\n",
       "    </tr>\n",
       "    <tr>\n",
       "      <th>3</th>\n",
       "      <td>2</td>\n",
       "      <td>20</td>\n",
       "      <td>5000</td>\n",
       "      <td>45</td>\n",
       "      <td>1</td>\n",
       "    </tr>\n",
       "    <tr>\n",
       "      <th>4</th>\n",
       "      <td>1</td>\n",
       "      <td>24</td>\n",
       "      <td>6000</td>\n",
       "      <td>77</td>\n",
       "      <td>0</td>\n",
       "    </tr>\n",
       "    <tr>\n",
       "      <th>...</th>\n",
       "      <td>...</td>\n",
       "      <td>...</td>\n",
       "      <td>...</td>\n",
       "      <td>...</td>\n",
       "      <td>...</td>\n",
       "    </tr>\n",
       "    <tr>\n",
       "      <th>713</th>\n",
       "      <td>16</td>\n",
       "      <td>6</td>\n",
       "      <td>1500</td>\n",
       "      <td>81</td>\n",
       "      <td>0</td>\n",
       "    </tr>\n",
       "    <tr>\n",
       "      <th>715</th>\n",
       "      <td>16</td>\n",
       "      <td>5</td>\n",
       "      <td>1250</td>\n",
       "      <td>71</td>\n",
       "      <td>0</td>\n",
       "    </tr>\n",
       "    <tr>\n",
       "      <th>719</th>\n",
       "      <td>23</td>\n",
       "      <td>8</td>\n",
       "      <td>2000</td>\n",
       "      <td>69</td>\n",
       "      <td>0</td>\n",
       "    </tr>\n",
       "    <tr>\n",
       "      <th>726</th>\n",
       "      <td>25</td>\n",
       "      <td>6</td>\n",
       "      <td>1500</td>\n",
       "      <td>50</td>\n",
       "      <td>0</td>\n",
       "    </tr>\n",
       "    <tr>\n",
       "      <th>741</th>\n",
       "      <td>23</td>\n",
       "      <td>7</td>\n",
       "      <td>1750</td>\n",
       "      <td>88</td>\n",
       "      <td>0</td>\n",
       "    </tr>\n",
       "  </tbody>\n",
       "</table>\n",
       "<p>329 rows × 5 columns</p>\n",
       "</div>"
      ],
      "text/plain": [
       "     Recency  Frequency  Monetary  Time  Target\n",
       "0          2         50     12500    98       1\n",
       "1          0         13      3250    28       1\n",
       "2          1         16      4000    35       1\n",
       "3          2         20      5000    45       1\n",
       "4          1         24      6000    77       0\n",
       "..       ...        ...       ...   ...     ...\n",
       "713       16          6      1500    81       0\n",
       "715       16          5      1250    71       0\n",
       "719       23          8      2000    69       0\n",
       "726       25          6      1500    50       0\n",
       "741       23          7      1750    88       0\n",
       "\n",
       "[329 rows x 5 columns]"
      ]
     },
     "execution_count": 35,
     "metadata": {},
     "output_type": "execute_result"
    }
   ],
   "source": [
    "df[df[\"Frequency\"] >= 5]"
   ]
  },
  {
   "cell_type": "code",
   "execution_count": 36,
   "id": "95072558",
   "metadata": {},
   "outputs": [
    {
     "data": {
      "text/plain": [
       "329"
      ]
     },
     "execution_count": 36,
     "metadata": {},
     "output_type": "execute_result"
    }
   ],
   "source": [
    "len(df[df[\"Frequency\"] >= 5])"
   ]
  },
  {
   "cell_type": "markdown",
   "id": "6d440f96",
   "metadata": {},
   "source": [
    "## Create a new column giving the time between the first donation and the last donation"
   ]
  },
  {
   "cell_type": "code",
   "execution_count": 37,
   "id": "83291cf1",
   "metadata": {
    "ExecuteTime": {
     "end_time": "2023-09-18T19:18:30.265962Z",
     "start_time": "2023-09-18T19:18:30.252541Z"
    }
   },
   "outputs": [
    {
     "data": {
      "text/plain": [
       "0      96\n",
       "1      28\n",
       "2      34\n",
       "3      43\n",
       "4      76\n",
       "       ..\n",
       "743    15\n",
       "744    31\n",
       "745    39\n",
       "746     0\n",
       "747     0\n",
       "Name: Donation_Period, Length: 748, dtype: int64"
      ]
     },
     "execution_count": 37,
     "metadata": {},
     "output_type": "execute_result"
    }
   ],
   "source": [
    "df[\"Donation_Period\"] = df.Time - df.Recency\n",
    "df[\"Donation_Period\"]"
   ]
  },
  {
   "cell_type": "code",
   "execution_count": 38,
   "id": "15012b04",
   "metadata": {},
   "outputs": [
    {
     "data": {
      "text/html": [
       "<div>\n",
       "<style scoped>\n",
       "    .dataframe tbody tr th:only-of-type {\n",
       "        vertical-align: middle;\n",
       "    }\n",
       "\n",
       "    .dataframe tbody tr th {\n",
       "        vertical-align: top;\n",
       "    }\n",
       "\n",
       "    .dataframe thead th {\n",
       "        text-align: right;\n",
       "    }\n",
       "</style>\n",
       "<table border=\"1\" class=\"dataframe\">\n",
       "  <thead>\n",
       "    <tr style=\"text-align: right;\">\n",
       "      <th></th>\n",
       "      <th>Recency</th>\n",
       "      <th>Frequency</th>\n",
       "      <th>Monetary</th>\n",
       "      <th>Time</th>\n",
       "      <th>Target</th>\n",
       "      <th>Donation_Period</th>\n",
       "    </tr>\n",
       "  </thead>\n",
       "  <tbody>\n",
       "    <tr>\n",
       "      <th>0</th>\n",
       "      <td>2</td>\n",
       "      <td>50</td>\n",
       "      <td>12500</td>\n",
       "      <td>98</td>\n",
       "      <td>1</td>\n",
       "      <td>96</td>\n",
       "    </tr>\n",
       "    <tr>\n",
       "      <th>1</th>\n",
       "      <td>0</td>\n",
       "      <td>13</td>\n",
       "      <td>3250</td>\n",
       "      <td>28</td>\n",
       "      <td>1</td>\n",
       "      <td>28</td>\n",
       "    </tr>\n",
       "    <tr>\n",
       "      <th>2</th>\n",
       "      <td>1</td>\n",
       "      <td>16</td>\n",
       "      <td>4000</td>\n",
       "      <td>35</td>\n",
       "      <td>1</td>\n",
       "      <td>34</td>\n",
       "    </tr>\n",
       "    <tr>\n",
       "      <th>3</th>\n",
       "      <td>2</td>\n",
       "      <td>20</td>\n",
       "      <td>5000</td>\n",
       "      <td>45</td>\n",
       "      <td>1</td>\n",
       "      <td>43</td>\n",
       "    </tr>\n",
       "    <tr>\n",
       "      <th>4</th>\n",
       "      <td>1</td>\n",
       "      <td>24</td>\n",
       "      <td>6000</td>\n",
       "      <td>77</td>\n",
       "      <td>0</td>\n",
       "      <td>76</td>\n",
       "    </tr>\n",
       "    <tr>\n",
       "      <th>...</th>\n",
       "      <td>...</td>\n",
       "      <td>...</td>\n",
       "      <td>...</td>\n",
       "      <td>...</td>\n",
       "      <td>...</td>\n",
       "      <td>...</td>\n",
       "    </tr>\n",
       "    <tr>\n",
       "      <th>743</th>\n",
       "      <td>23</td>\n",
       "      <td>2</td>\n",
       "      <td>500</td>\n",
       "      <td>38</td>\n",
       "      <td>0</td>\n",
       "      <td>15</td>\n",
       "    </tr>\n",
       "    <tr>\n",
       "      <th>744</th>\n",
       "      <td>21</td>\n",
       "      <td>2</td>\n",
       "      <td>500</td>\n",
       "      <td>52</td>\n",
       "      <td>0</td>\n",
       "      <td>31</td>\n",
       "    </tr>\n",
       "    <tr>\n",
       "      <th>745</th>\n",
       "      <td>23</td>\n",
       "      <td>3</td>\n",
       "      <td>750</td>\n",
       "      <td>62</td>\n",
       "      <td>0</td>\n",
       "      <td>39</td>\n",
       "    </tr>\n",
       "    <tr>\n",
       "      <th>746</th>\n",
       "      <td>39</td>\n",
       "      <td>1</td>\n",
       "      <td>250</td>\n",
       "      <td>39</td>\n",
       "      <td>0</td>\n",
       "      <td>0</td>\n",
       "    </tr>\n",
       "    <tr>\n",
       "      <th>747</th>\n",
       "      <td>72</td>\n",
       "      <td>1</td>\n",
       "      <td>250</td>\n",
       "      <td>72</td>\n",
       "      <td>0</td>\n",
       "      <td>0</td>\n",
       "    </tr>\n",
       "  </tbody>\n",
       "</table>\n",
       "<p>748 rows × 6 columns</p>\n",
       "</div>"
      ],
      "text/plain": [
       "     Recency  Frequency  Monetary  Time  Target  Donation_Period\n",
       "0          2         50     12500    98       1               96\n",
       "1          0         13      3250    28       1               28\n",
       "2          1         16      4000    35       1               34\n",
       "3          2         20      5000    45       1               43\n",
       "4          1         24      6000    77       0               76\n",
       "..       ...        ...       ...   ...     ...              ...\n",
       "743       23          2       500    38       0               15\n",
       "744       21          2       500    52       0               31\n",
       "745       23          3       750    62       0               39\n",
       "746       39          1       250    39       0                0\n",
       "747       72          1       250    72       0                0\n",
       "\n",
       "[748 rows x 6 columns]"
      ]
     },
     "execution_count": 38,
     "metadata": {},
     "output_type": "execute_result"
    }
   ],
   "source": [
    "df"
   ]
  },
  {
   "cell_type": "markdown",
   "id": "ea4008ad",
   "metadata": {},
   "source": [
    "## Outlier Analysis for 'Frequency'"
   ]
  },
  {
   "cell_type": "code",
   "execution_count": 39,
   "id": "f132c6f5",
   "metadata": {},
   "outputs": [
    {
     "data": {
      "text/html": [
       "<div>\n",
       "<style scoped>\n",
       "    .dataframe tbody tr th:only-of-type {\n",
       "        vertical-align: middle;\n",
       "    }\n",
       "\n",
       "    .dataframe tbody tr th {\n",
       "        vertical-align: top;\n",
       "    }\n",
       "\n",
       "    .dataframe thead th {\n",
       "        text-align: right;\n",
       "    }\n",
       "</style>\n",
       "<table border=\"1\" class=\"dataframe\">\n",
       "  <thead>\n",
       "    <tr style=\"text-align: right;\">\n",
       "      <th></th>\n",
       "      <th>count</th>\n",
       "      <th>mean</th>\n",
       "      <th>std</th>\n",
       "      <th>min</th>\n",
       "      <th>25%</th>\n",
       "      <th>50%</th>\n",
       "      <th>75%</th>\n",
       "      <th>max</th>\n",
       "    </tr>\n",
       "  </thead>\n",
       "  <tbody>\n",
       "    <tr>\n",
       "      <th>Recency</th>\n",
       "      <td>748.0</td>\n",
       "      <td>9.506684</td>\n",
       "      <td>8.095396</td>\n",
       "      <td>0.0</td>\n",
       "      <td>2.75</td>\n",
       "      <td>7.0</td>\n",
       "      <td>14.0</td>\n",
       "      <td>74.0</td>\n",
       "    </tr>\n",
       "    <tr>\n",
       "      <th>Frequency</th>\n",
       "      <td>748.0</td>\n",
       "      <td>5.514706</td>\n",
       "      <td>5.839307</td>\n",
       "      <td>1.0</td>\n",
       "      <td>2.00</td>\n",
       "      <td>4.0</td>\n",
       "      <td>7.0</td>\n",
       "      <td>50.0</td>\n",
       "    </tr>\n",
       "    <tr>\n",
       "      <th>Monetary</th>\n",
       "      <td>748.0</td>\n",
       "      <td>1378.676471</td>\n",
       "      <td>1459.826781</td>\n",
       "      <td>250.0</td>\n",
       "      <td>500.00</td>\n",
       "      <td>1000.0</td>\n",
       "      <td>1750.0</td>\n",
       "      <td>12500.0</td>\n",
       "    </tr>\n",
       "    <tr>\n",
       "      <th>Time</th>\n",
       "      <td>748.0</td>\n",
       "      <td>34.282086</td>\n",
       "      <td>24.376714</td>\n",
       "      <td>2.0</td>\n",
       "      <td>16.00</td>\n",
       "      <td>28.0</td>\n",
       "      <td>50.0</td>\n",
       "      <td>98.0</td>\n",
       "    </tr>\n",
       "    <tr>\n",
       "      <th>Target</th>\n",
       "      <td>748.0</td>\n",
       "      <td>0.237968</td>\n",
       "      <td>0.426124</td>\n",
       "      <td>0.0</td>\n",
       "      <td>0.00</td>\n",
       "      <td>0.0</td>\n",
       "      <td>0.0</td>\n",
       "      <td>1.0</td>\n",
       "    </tr>\n",
       "    <tr>\n",
       "      <th>Donation_Period</th>\n",
       "      <td>748.0</td>\n",
       "      <td>24.775401</td>\n",
       "      <td>24.420630</td>\n",
       "      <td>0.0</td>\n",
       "      <td>0.00</td>\n",
       "      <td>19.0</td>\n",
       "      <td>41.0</td>\n",
       "      <td>96.0</td>\n",
       "    </tr>\n",
       "  </tbody>\n",
       "</table>\n",
       "</div>"
      ],
      "text/plain": [
       "                 count         mean          std    min     25%     50%  \\\n",
       "Recency          748.0     9.506684     8.095396    0.0    2.75     7.0   \n",
       "Frequency        748.0     5.514706     5.839307    1.0    2.00     4.0   \n",
       "Monetary         748.0  1378.676471  1459.826781  250.0  500.00  1000.0   \n",
       "Time             748.0    34.282086    24.376714    2.0   16.00    28.0   \n",
       "Target           748.0     0.237968     0.426124    0.0    0.00     0.0   \n",
       "Donation_Period  748.0    24.775401    24.420630    0.0    0.00    19.0   \n",
       "\n",
       "                    75%      max  \n",
       "Recency            14.0     74.0  \n",
       "Frequency           7.0     50.0  \n",
       "Monetary         1750.0  12500.0  \n",
       "Time               50.0     98.0  \n",
       "Target              0.0      1.0  \n",
       "Donation_Period    41.0     96.0  "
      ]
     },
     "execution_count": 39,
     "metadata": {},
     "output_type": "execute_result"
    }
   ],
   "source": [
    "df.describe().T"
   ]
  },
  {
   "cell_type": "code",
   "execution_count": 40,
   "id": "5d09d378",
   "metadata": {
    "ExecuteTime": {
     "end_time": "2023-09-18T19:42:07.896387Z",
     "start_time": "2023-09-18T19:42:07.879087Z"
    }
   },
   "outputs": [
    {
     "data": {
      "text/plain": [
       "2.0"
      ]
     },
     "execution_count": 40,
     "metadata": {},
     "output_type": "execute_result"
    }
   ],
   "source": [
    "q1 = df.Frequency.quantile(0.25)\n",
    "q1"
   ]
  },
  {
   "cell_type": "code",
   "execution_count": 41,
   "id": "f6310050",
   "metadata": {},
   "outputs": [
    {
     "data": {
      "text/plain": [
       "7.0"
      ]
     },
     "execution_count": 41,
     "metadata": {},
     "output_type": "execute_result"
    }
   ],
   "source": [
    "q3 = df.Frequency.quantile(0.75)\n",
    "q3"
   ]
  },
  {
   "cell_type": "code",
   "execution_count": 42,
   "id": "b18712bf",
   "metadata": {},
   "outputs": [
    {
     "data": {
      "text/plain": [
       "5.0"
      ]
     },
     "execution_count": 42,
     "metadata": {},
     "output_type": "execute_result"
    }
   ],
   "source": [
    "iqr = q3 - q1\n",
    "iqr"
   ]
  },
  {
   "cell_type": "code",
   "execution_count": 43,
   "id": "890473b0",
   "metadata": {},
   "outputs": [
    {
     "data": {
      "text/html": [
       "<div>\n",
       "<style scoped>\n",
       "    .dataframe tbody tr th:only-of-type {\n",
       "        vertical-align: middle;\n",
       "    }\n",
       "\n",
       "    .dataframe tbody tr th {\n",
       "        vertical-align: top;\n",
       "    }\n",
       "\n",
       "    .dataframe thead th {\n",
       "        text-align: right;\n",
       "    }\n",
       "</style>\n",
       "<table border=\"1\" class=\"dataframe\">\n",
       "  <thead>\n",
       "    <tr style=\"text-align: right;\">\n",
       "      <th></th>\n",
       "      <th>Recency</th>\n",
       "      <th>Frequency</th>\n",
       "      <th>Monetary</th>\n",
       "      <th>Time</th>\n",
       "      <th>Target</th>\n",
       "      <th>Donation_Period</th>\n",
       "    </tr>\n",
       "  </thead>\n",
       "  <tbody>\n",
       "    <tr>\n",
       "      <th>0</th>\n",
       "      <td>2</td>\n",
       "      <td>50</td>\n",
       "      <td>12500</td>\n",
       "      <td>98</td>\n",
       "      <td>1</td>\n",
       "      <td>96</td>\n",
       "    </tr>\n",
       "    <tr>\n",
       "      <th>4</th>\n",
       "      <td>1</td>\n",
       "      <td>24</td>\n",
       "      <td>6000</td>\n",
       "      <td>77</td>\n",
       "      <td>0</td>\n",
       "      <td>76</td>\n",
       "    </tr>\n",
       "    <tr>\n",
       "      <th>9</th>\n",
       "      <td>5</td>\n",
       "      <td>46</td>\n",
       "      <td>11500</td>\n",
       "      <td>98</td>\n",
       "      <td>1</td>\n",
       "      <td>93</td>\n",
       "    </tr>\n",
       "    <tr>\n",
       "      <th>10</th>\n",
       "      <td>4</td>\n",
       "      <td>23</td>\n",
       "      <td>5750</td>\n",
       "      <td>58</td>\n",
       "      <td>0</td>\n",
       "      <td>54</td>\n",
       "    </tr>\n",
       "    <tr>\n",
       "      <th>115</th>\n",
       "      <td>11</td>\n",
       "      <td>24</td>\n",
       "      <td>6000</td>\n",
       "      <td>64</td>\n",
       "      <td>0</td>\n",
       "      <td>53</td>\n",
       "    </tr>\n",
       "    <tr>\n",
       "      <th>341</th>\n",
       "      <td>23</td>\n",
       "      <td>38</td>\n",
       "      <td>9500</td>\n",
       "      <td>98</td>\n",
       "      <td>0</td>\n",
       "      <td>75</td>\n",
       "    </tr>\n",
       "    <tr>\n",
       "      <th>500</th>\n",
       "      <td>2</td>\n",
       "      <td>43</td>\n",
       "      <td>10750</td>\n",
       "      <td>86</td>\n",
       "      <td>1</td>\n",
       "      <td>84</td>\n",
       "    </tr>\n",
       "    <tr>\n",
       "      <th>502</th>\n",
       "      <td>2</td>\n",
       "      <td>34</td>\n",
       "      <td>8500</td>\n",
       "      <td>77</td>\n",
       "      <td>1</td>\n",
       "      <td>75</td>\n",
       "    </tr>\n",
       "    <tr>\n",
       "      <th>503</th>\n",
       "      <td>2</td>\n",
       "      <td>44</td>\n",
       "      <td>11000</td>\n",
       "      <td>98</td>\n",
       "      <td>0</td>\n",
       "      <td>96</td>\n",
       "    </tr>\n",
       "    <tr>\n",
       "      <th>504</th>\n",
       "      <td>0</td>\n",
       "      <td>26</td>\n",
       "      <td>6500</td>\n",
       "      <td>76</td>\n",
       "      <td>1</td>\n",
       "      <td>76</td>\n",
       "    </tr>\n",
       "    <tr>\n",
       "      <th>505</th>\n",
       "      <td>2</td>\n",
       "      <td>41</td>\n",
       "      <td>10250</td>\n",
       "      <td>98</td>\n",
       "      <td>1</td>\n",
       "      <td>96</td>\n",
       "    </tr>\n",
       "    <tr>\n",
       "      <th>517</th>\n",
       "      <td>4</td>\n",
       "      <td>33</td>\n",
       "      <td>8250</td>\n",
       "      <td>98</td>\n",
       "      <td>1</td>\n",
       "      <td>94</td>\n",
       "    </tr>\n",
       "    <tr>\n",
       "      <th>528</th>\n",
       "      <td>5</td>\n",
       "      <td>24</td>\n",
       "      <td>6000</td>\n",
       "      <td>79</td>\n",
       "      <td>0</td>\n",
       "      <td>74</td>\n",
       "    </tr>\n",
       "  </tbody>\n",
       "</table>\n",
       "</div>"
      ],
      "text/plain": [
       "     Recency  Frequency  Monetary  Time  Target  Donation_Period\n",
       "0          2         50     12500    98       1               96\n",
       "4          1         24      6000    77       0               76\n",
       "9          5         46     11500    98       1               93\n",
       "10         4         23      5750    58       0               54\n",
       "115       11         24      6000    64       0               53\n",
       "341       23         38      9500    98       0               75\n",
       "500        2         43     10750    86       1               84\n",
       "502        2         34      8500    77       1               75\n",
       "503        2         44     11000    98       0               96\n",
       "504        0         26      6500    76       1               76\n",
       "505        2         41     10250    98       1               96\n",
       "517        4         33      8250    98       1               94\n",
       "528        5         24      6000    79       0               74"
      ]
     },
     "execution_count": 43,
     "metadata": {},
     "output_type": "execute_result"
    }
   ],
   "source": [
    "df[df[\"Frequency\"] > 22]"
   ]
  },
  {
   "cell_type": "code",
   "execution_count": 44,
   "id": "1b3a7bc5",
   "metadata": {},
   "outputs": [
    {
     "data": {
      "text/plain": [
       "13"
      ]
     },
     "execution_count": 44,
     "metadata": {},
     "output_type": "execute_result"
    }
   ],
   "source": [
    "len(df[df[\"Frequency\"] > 22])"
   ]
  },
  {
   "cell_type": "code",
   "execution_count": 45,
   "id": "b14e60dc",
   "metadata": {},
   "outputs": [
    {
     "data": {
      "text/plain": [
       "45"
      ]
     },
     "execution_count": 45,
     "metadata": {},
     "output_type": "execute_result"
    }
   ],
   "source": [
    "len(df[df[\"Frequency\"] > 14.5])"
   ]
  },
  {
   "cell_type": "markdown",
   "id": "575bc6c2",
   "metadata": {},
   "source": [
    "## Create a simple scoring model based on 'Recency' and 'Frequency'"
   ]
  },
  {
   "cell_type": "code",
   "execution_count": 46,
   "id": "cddd1f18",
   "metadata": {
    "ExecuteTime": {
     "end_time": "2023-09-18T20:02:39.467203Z",
     "start_time": "2023-09-18T20:02:39.440700Z"
    }
   },
   "outputs": [
    {
     "data": {
      "text/html": [
       "<div>\n",
       "<style scoped>\n",
       "    .dataframe tbody tr th:only-of-type {\n",
       "        vertical-align: middle;\n",
       "    }\n",
       "\n",
       "    .dataframe tbody tr th {\n",
       "        vertical-align: top;\n",
       "    }\n",
       "\n",
       "    .dataframe thead th {\n",
       "        text-align: right;\n",
       "    }\n",
       "</style>\n",
       "<table border=\"1\" class=\"dataframe\">\n",
       "  <thead>\n",
       "    <tr style=\"text-align: right;\">\n",
       "      <th></th>\n",
       "      <th>Recency</th>\n",
       "      <th>Frequency</th>\n",
       "      <th>Monetary</th>\n",
       "      <th>Time</th>\n",
       "      <th>Target</th>\n",
       "      <th>Donation_Period</th>\n",
       "    </tr>\n",
       "  </thead>\n",
       "  <tbody>\n",
       "    <tr>\n",
       "      <th>0</th>\n",
       "      <td>2</td>\n",
       "      <td>50</td>\n",
       "      <td>12500</td>\n",
       "      <td>98</td>\n",
       "      <td>1</td>\n",
       "      <td>96</td>\n",
       "    </tr>\n",
       "    <tr>\n",
       "      <th>1</th>\n",
       "      <td>0</td>\n",
       "      <td>13</td>\n",
       "      <td>3250</td>\n",
       "      <td>28</td>\n",
       "      <td>1</td>\n",
       "      <td>28</td>\n",
       "    </tr>\n",
       "    <tr>\n",
       "      <th>2</th>\n",
       "      <td>1</td>\n",
       "      <td>16</td>\n",
       "      <td>4000</td>\n",
       "      <td>35</td>\n",
       "      <td>1</td>\n",
       "      <td>34</td>\n",
       "    </tr>\n",
       "    <tr>\n",
       "      <th>3</th>\n",
       "      <td>2</td>\n",
       "      <td>20</td>\n",
       "      <td>5000</td>\n",
       "      <td>45</td>\n",
       "      <td>1</td>\n",
       "      <td>43</td>\n",
       "    </tr>\n",
       "    <tr>\n",
       "      <th>4</th>\n",
       "      <td>1</td>\n",
       "      <td>24</td>\n",
       "      <td>6000</td>\n",
       "      <td>77</td>\n",
       "      <td>0</td>\n",
       "      <td>76</td>\n",
       "    </tr>\n",
       "  </tbody>\n",
       "</table>\n",
       "</div>"
      ],
      "text/plain": [
       "   Recency  Frequency  Monetary  Time  Target  Donation_Period\n",
       "0        2         50     12500    98       1               96\n",
       "1        0         13      3250    28       1               28\n",
       "2        1         16      4000    35       1               34\n",
       "3        2         20      5000    45       1               43\n",
       "4        1         24      6000    77       0               76"
      ]
     },
     "execution_count": 46,
     "metadata": {},
     "output_type": "execute_result"
    }
   ],
   "source": [
    "df.head()"
   ]
  },
  {
   "cell_type": "code",
   "execution_count": 47,
   "id": "aa8c5703",
   "metadata": {},
   "outputs": [
    {
     "data": {
      "text/plain": [
       "0      50.500000\n",
       "1            inf\n",
       "2      17.000000\n",
       "3      20.500000\n",
       "4      25.000000\n",
       "         ...    \n",
       "743     2.043478\n",
       "744     2.047619\n",
       "745     3.043478\n",
       "746     1.025641\n",
       "747     1.013889\n",
       "Name: Danotiopn_Score, Length: 748, dtype: float64"
      ]
     },
     "execution_count": 47,
     "metadata": {},
     "output_type": "execute_result"
    }
   ],
   "source": [
    "df[\"Danotiopn_Score\"] = (1 / df.Recency) + df.Frequency\n",
    "df[\"Danotiopn_Score\"]"
   ]
  },
  {
   "cell_type": "code",
   "execution_count": 48,
   "id": "f5298da2",
   "metadata": {},
   "outputs": [
    {
     "data": {
      "text/plain": [
       "0      50.500000\n",
       "1      13.000000\n",
       "2      17.000000\n",
       "3      20.500000\n",
       "4      25.000000\n",
       "         ...    \n",
       "743     2.043478\n",
       "744     2.047619\n",
       "745     3.043478\n",
       "746     1.025641\n",
       "747     1.013889\n",
       "Name: Danotiopn_Score_1, Length: 748, dtype: float64"
      ]
     },
     "execution_count": 48,
     "metadata": {},
     "output_type": "execute_result"
    }
   ],
   "source": [
    "df[\"Danotiopn_Score_1\"] = np.where(df[\"Recency\"] == 0, df.Frequency, (1 / df.Recency) + df.Frequency )\n",
    "df[\"Danotiopn_Score_1\"]"
   ]
  },
  {
   "cell_type": "code",
   "execution_count": 49,
   "id": "309b2351",
   "metadata": {},
   "outputs": [
    {
     "data": {
      "text/html": [
       "<div>\n",
       "<style scoped>\n",
       "    .dataframe tbody tr th:only-of-type {\n",
       "        vertical-align: middle;\n",
       "    }\n",
       "\n",
       "    .dataframe tbody tr th {\n",
       "        vertical-align: top;\n",
       "    }\n",
       "\n",
       "    .dataframe thead th {\n",
       "        text-align: right;\n",
       "    }\n",
       "</style>\n",
       "<table border=\"1\" class=\"dataframe\">\n",
       "  <thead>\n",
       "    <tr style=\"text-align: right;\">\n",
       "      <th></th>\n",
       "      <th>Recency</th>\n",
       "      <th>Frequency</th>\n",
       "      <th>Monetary</th>\n",
       "      <th>Time</th>\n",
       "      <th>Target</th>\n",
       "      <th>Donation_Period</th>\n",
       "      <th>Danotiopn_Score</th>\n",
       "      <th>Danotiopn_Score_1</th>\n",
       "    </tr>\n",
       "  </thead>\n",
       "  <tbody>\n",
       "    <tr>\n",
       "      <th>0</th>\n",
       "      <td>2</td>\n",
       "      <td>50</td>\n",
       "      <td>12500</td>\n",
       "      <td>98</td>\n",
       "      <td>1</td>\n",
       "      <td>96</td>\n",
       "      <td>50.5</td>\n",
       "      <td>50.5</td>\n",
       "    </tr>\n",
       "    <tr>\n",
       "      <th>1</th>\n",
       "      <td>0</td>\n",
       "      <td>13</td>\n",
       "      <td>3250</td>\n",
       "      <td>28</td>\n",
       "      <td>1</td>\n",
       "      <td>28</td>\n",
       "      <td>inf</td>\n",
       "      <td>13.0</td>\n",
       "    </tr>\n",
       "    <tr>\n",
       "      <th>2</th>\n",
       "      <td>1</td>\n",
       "      <td>16</td>\n",
       "      <td>4000</td>\n",
       "      <td>35</td>\n",
       "      <td>1</td>\n",
       "      <td>34</td>\n",
       "      <td>17.0</td>\n",
       "      <td>17.0</td>\n",
       "    </tr>\n",
       "    <tr>\n",
       "      <th>3</th>\n",
       "      <td>2</td>\n",
       "      <td>20</td>\n",
       "      <td>5000</td>\n",
       "      <td>45</td>\n",
       "      <td>1</td>\n",
       "      <td>43</td>\n",
       "      <td>20.5</td>\n",
       "      <td>20.5</td>\n",
       "    </tr>\n",
       "    <tr>\n",
       "      <th>4</th>\n",
       "      <td>1</td>\n",
       "      <td>24</td>\n",
       "      <td>6000</td>\n",
       "      <td>77</td>\n",
       "      <td>0</td>\n",
       "      <td>76</td>\n",
       "      <td>25.0</td>\n",
       "      <td>25.0</td>\n",
       "    </tr>\n",
       "  </tbody>\n",
       "</table>\n",
       "</div>"
      ],
      "text/plain": [
       "   Recency  Frequency  Monetary  Time  Target  Donation_Period  \\\n",
       "0        2         50     12500    98       1               96   \n",
       "1        0         13      3250    28       1               28   \n",
       "2        1         16      4000    35       1               34   \n",
       "3        2         20      5000    45       1               43   \n",
       "4        1         24      6000    77       0               76   \n",
       "\n",
       "   Danotiopn_Score  Danotiopn_Score_1  \n",
       "0             50.5               50.5  \n",
       "1              inf               13.0  \n",
       "2             17.0               17.0  \n",
       "3             20.5               20.5  \n",
       "4             25.0               25.0  "
      ]
     },
     "execution_count": 49,
     "metadata": {},
     "output_type": "execute_result"
    }
   ],
   "source": [
    "df.head()"
   ]
  },
  {
   "cell_type": "markdown",
   "id": "be241240",
   "metadata": {},
   "source": [
    "## Convert Time to Years and Months (Time Series Transformation)"
   ]
  },
  {
   "cell_type": "code",
   "execution_count": 50,
   "id": "40c22a09",
   "metadata": {},
   "outputs": [
    {
     "data": {
      "text/plain": [
       "0      8\n",
       "1      2\n",
       "2      2\n",
       "3      3\n",
       "4      6\n",
       "      ..\n",
       "743    3\n",
       "744    4\n",
       "745    5\n",
       "746    3\n",
       "747    6\n",
       "Name: Time, Length: 748, dtype: int64"
      ]
     },
     "execution_count": 50,
     "metadata": {},
     "output_type": "execute_result"
    }
   ],
   "source": [
    " df.Time // 12"
   ]
  },
  {
   "cell_type": "code",
   "execution_count": 51,
   "id": "3d6bb379",
   "metadata": {
    "ExecuteTime": {
     "end_time": "2023-09-18T20:06:51.784168Z",
     "start_time": "2023-09-18T20:06:51.756659Z"
    }
   },
   "outputs": [
    {
     "data": {
      "text/plain": [
       "0      8\n",
       "1      2\n",
       "2      2\n",
       "3      3\n",
       "4      6\n",
       "      ..\n",
       "743    3\n",
       "744    4\n",
       "745    5\n",
       "746    3\n",
       "747    6\n",
       "Name: Years, Length: 748, dtype: int64"
      ]
     },
     "execution_count": 51,
     "metadata": {},
     "output_type": "execute_result"
    }
   ],
   "source": [
    "df[\"Years\"] = df.Time // 12\n",
    "df[\"Years\"]"
   ]
  },
  {
   "cell_type": "code",
   "execution_count": 52,
   "id": "32a05e72",
   "metadata": {},
   "outputs": [
    {
     "data": {
      "text/plain": [
       "0       2\n",
       "1       4\n",
       "2      11\n",
       "3       9\n",
       "4       5\n",
       "       ..\n",
       "743     2\n",
       "744     4\n",
       "745     2\n",
       "746     3\n",
       "747     0\n",
       "Name: Time, Length: 748, dtype: int64"
      ]
     },
     "execution_count": 52,
     "metadata": {},
     "output_type": "execute_result"
    }
   ],
   "source": [
    "df.Time % 12"
   ]
  },
  {
   "cell_type": "code",
   "execution_count": 53,
   "id": "31edccc5",
   "metadata": {},
   "outputs": [
    {
     "data": {
      "text/plain": [
       "0       2\n",
       "1       4\n",
       "2      11\n",
       "3       9\n",
       "4       5\n",
       "       ..\n",
       "743     2\n",
       "744     4\n",
       "745     2\n",
       "746     3\n",
       "747     0\n",
       "Name: Months, Length: 748, dtype: int64"
      ]
     },
     "execution_count": 53,
     "metadata": {},
     "output_type": "execute_result"
    }
   ],
   "source": [
    "df[\"Months\"] = df.Time % 12\n",
    "df[\"Months\"]"
   ]
  },
  {
   "cell_type": "code",
   "execution_count": 54,
   "id": "7b9036e4",
   "metadata": {},
   "outputs": [
    {
     "data": {
      "text/html": [
       "<div>\n",
       "<style scoped>\n",
       "    .dataframe tbody tr th:only-of-type {\n",
       "        vertical-align: middle;\n",
       "    }\n",
       "\n",
       "    .dataframe tbody tr th {\n",
       "        vertical-align: top;\n",
       "    }\n",
       "\n",
       "    .dataframe thead th {\n",
       "        text-align: right;\n",
       "    }\n",
       "</style>\n",
       "<table border=\"1\" class=\"dataframe\">\n",
       "  <thead>\n",
       "    <tr style=\"text-align: right;\">\n",
       "      <th></th>\n",
       "      <th>Recency</th>\n",
       "      <th>Frequency</th>\n",
       "      <th>Monetary</th>\n",
       "      <th>Time</th>\n",
       "      <th>Target</th>\n",
       "      <th>Donation_Period</th>\n",
       "      <th>Danotiopn_Score</th>\n",
       "      <th>Danotiopn_Score_1</th>\n",
       "      <th>Years</th>\n",
       "      <th>Months</th>\n",
       "    </tr>\n",
       "  </thead>\n",
       "  <tbody>\n",
       "    <tr>\n",
       "      <th>0</th>\n",
       "      <td>2</td>\n",
       "      <td>50</td>\n",
       "      <td>12500</td>\n",
       "      <td>98</td>\n",
       "      <td>1</td>\n",
       "      <td>96</td>\n",
       "      <td>50.5</td>\n",
       "      <td>50.5</td>\n",
       "      <td>8</td>\n",
       "      <td>2</td>\n",
       "    </tr>\n",
       "    <tr>\n",
       "      <th>1</th>\n",
       "      <td>0</td>\n",
       "      <td>13</td>\n",
       "      <td>3250</td>\n",
       "      <td>28</td>\n",
       "      <td>1</td>\n",
       "      <td>28</td>\n",
       "      <td>inf</td>\n",
       "      <td>13.0</td>\n",
       "      <td>2</td>\n",
       "      <td>4</td>\n",
       "    </tr>\n",
       "    <tr>\n",
       "      <th>2</th>\n",
       "      <td>1</td>\n",
       "      <td>16</td>\n",
       "      <td>4000</td>\n",
       "      <td>35</td>\n",
       "      <td>1</td>\n",
       "      <td>34</td>\n",
       "      <td>17.0</td>\n",
       "      <td>17.0</td>\n",
       "      <td>2</td>\n",
       "      <td>11</td>\n",
       "    </tr>\n",
       "    <tr>\n",
       "      <th>3</th>\n",
       "      <td>2</td>\n",
       "      <td>20</td>\n",
       "      <td>5000</td>\n",
       "      <td>45</td>\n",
       "      <td>1</td>\n",
       "      <td>43</td>\n",
       "      <td>20.5</td>\n",
       "      <td>20.5</td>\n",
       "      <td>3</td>\n",
       "      <td>9</td>\n",
       "    </tr>\n",
       "    <tr>\n",
       "      <th>4</th>\n",
       "      <td>1</td>\n",
       "      <td>24</td>\n",
       "      <td>6000</td>\n",
       "      <td>77</td>\n",
       "      <td>0</td>\n",
       "      <td>76</td>\n",
       "      <td>25.0</td>\n",
       "      <td>25.0</td>\n",
       "      <td>6</td>\n",
       "      <td>5</td>\n",
       "    </tr>\n",
       "  </tbody>\n",
       "</table>\n",
       "</div>"
      ],
      "text/plain": [
       "   Recency  Frequency  Monetary  Time  Target  Donation_Period  \\\n",
       "0        2         50     12500    98       1               96   \n",
       "1        0         13      3250    28       1               28   \n",
       "2        1         16      4000    35       1               34   \n",
       "3        2         20      5000    45       1               43   \n",
       "4        1         24      6000    77       0               76   \n",
       "\n",
       "   Danotiopn_Score  Danotiopn_Score_1  Years  Months  \n",
       "0             50.5               50.5      8       2  \n",
       "1              inf               13.0      2       4  \n",
       "2             17.0               17.0      2      11  \n",
       "3             20.5               20.5      3       9  \n",
       "4             25.0               25.0      6       5  "
      ]
     },
     "execution_count": 54,
     "metadata": {},
     "output_type": "execute_result"
    }
   ],
   "source": [
    "df.head()"
   ]
  },
  {
   "cell_type": "markdown",
   "id": "2b99d330",
   "metadata": {},
   "source": [
    "## Calculate the correlation of 'Target' with other features (Correlation Analysis)"
   ]
  },
  {
   "cell_type": "code",
   "execution_count": 55,
   "id": "06b6e36d",
   "metadata": {
    "ExecuteTime": {
     "end_time": "2023-09-18T20:10:29.530525Z",
     "start_time": "2023-09-18T20:10:29.517963Z"
    }
   },
   "outputs": [
    {
     "data": {
      "text/plain": [
       "Recency             -0.279869\n",
       "Frequency            0.218633\n",
       "Monetary             0.218633\n",
       "Time                -0.035854\n",
       "Target               1.000000\n",
       "Donation_Period      0.056986\n",
       "Danotiopn_Score      0.216745\n",
       "Danotiopn_Score_1    0.225380\n",
       "Years               -0.032680\n",
       "Months              -0.021089\n",
       "Name: Target, dtype: float64"
      ]
     },
     "execution_count": 55,
     "metadata": {},
     "output_type": "execute_result"
    }
   ],
   "source": [
    "df.corr()[\"Target\"]"
   ]
  },
  {
   "cell_type": "code",
   "execution_count": 56,
   "id": "a3b06bf6",
   "metadata": {},
   "outputs": [
    {
     "data": {
      "text/plain": [
       "Target               1.000000\n",
       "Danotiopn_Score_1    0.225380\n",
       "Monetary             0.218633\n",
       "Frequency            0.218633\n",
       "Danotiopn_Score      0.216745\n",
       "Donation_Period      0.056986\n",
       "Months              -0.021089\n",
       "Years               -0.032680\n",
       "Time                -0.035854\n",
       "Recency             -0.279869\n",
       "Name: Target, dtype: float64"
      ]
     },
     "execution_count": 56,
     "metadata": {},
     "output_type": "execute_result"
    }
   ],
   "source": [
    "df.corr()[\"Target\"].sort_values(ascending = False)"
   ]
  },
  {
   "cell_type": "code",
   "execution_count": 57,
   "id": "374f3260",
   "metadata": {},
   "outputs": [
    {
     "data": {
      "text/html": [
       "<div>\n",
       "<style scoped>\n",
       "    .dataframe tbody tr th:only-of-type {\n",
       "        vertical-align: middle;\n",
       "    }\n",
       "\n",
       "    .dataframe tbody tr th {\n",
       "        vertical-align: top;\n",
       "    }\n",
       "\n",
       "    .dataframe thead th {\n",
       "        text-align: right;\n",
       "    }\n",
       "</style>\n",
       "<table border=\"1\" class=\"dataframe\">\n",
       "  <thead>\n",
       "    <tr style=\"text-align: right;\">\n",
       "      <th></th>\n",
       "      <th>Recency</th>\n",
       "      <th>Frequency</th>\n",
       "      <th>Monetary</th>\n",
       "      <th>Time</th>\n",
       "      <th>Target</th>\n",
       "      <th>Donation_Period</th>\n",
       "      <th>Danotiopn_Score</th>\n",
       "      <th>Danotiopn_Score_1</th>\n",
       "      <th>Years</th>\n",
       "      <th>Months</th>\n",
       "    </tr>\n",
       "  </thead>\n",
       "  <tbody>\n",
       "    <tr>\n",
       "      <th>0</th>\n",
       "      <td>2</td>\n",
       "      <td>50</td>\n",
       "      <td>12500</td>\n",
       "      <td>98</td>\n",
       "      <td>1</td>\n",
       "      <td>96</td>\n",
       "      <td>50.5</td>\n",
       "      <td>50.5</td>\n",
       "      <td>8</td>\n",
       "      <td>2</td>\n",
       "    </tr>\n",
       "    <tr>\n",
       "      <th>1</th>\n",
       "      <td>0</td>\n",
       "      <td>13</td>\n",
       "      <td>3250</td>\n",
       "      <td>28</td>\n",
       "      <td>1</td>\n",
       "      <td>28</td>\n",
       "      <td>inf</td>\n",
       "      <td>13.0</td>\n",
       "      <td>2</td>\n",
       "      <td>4</td>\n",
       "    </tr>\n",
       "    <tr>\n",
       "      <th>2</th>\n",
       "      <td>1</td>\n",
       "      <td>16</td>\n",
       "      <td>4000</td>\n",
       "      <td>35</td>\n",
       "      <td>1</td>\n",
       "      <td>34</td>\n",
       "      <td>17.0</td>\n",
       "      <td>17.0</td>\n",
       "      <td>2</td>\n",
       "      <td>11</td>\n",
       "    </tr>\n",
       "    <tr>\n",
       "      <th>3</th>\n",
       "      <td>2</td>\n",
       "      <td>20</td>\n",
       "      <td>5000</td>\n",
       "      <td>45</td>\n",
       "      <td>1</td>\n",
       "      <td>43</td>\n",
       "      <td>20.5</td>\n",
       "      <td>20.5</td>\n",
       "      <td>3</td>\n",
       "      <td>9</td>\n",
       "    </tr>\n",
       "    <tr>\n",
       "      <th>4</th>\n",
       "      <td>1</td>\n",
       "      <td>24</td>\n",
       "      <td>6000</td>\n",
       "      <td>77</td>\n",
       "      <td>0</td>\n",
       "      <td>76</td>\n",
       "      <td>25.0</td>\n",
       "      <td>25.0</td>\n",
       "      <td>6</td>\n",
       "      <td>5</td>\n",
       "    </tr>\n",
       "  </tbody>\n",
       "</table>\n",
       "</div>"
      ],
      "text/plain": [
       "   Recency  Frequency  Monetary  Time  Target  Donation_Period  \\\n",
       "0        2         50     12500    98       1               96   \n",
       "1        0         13      3250    28       1               28   \n",
       "2        1         16      4000    35       1               34   \n",
       "3        2         20      5000    45       1               43   \n",
       "4        1         24      6000    77       0               76   \n",
       "\n",
       "   Danotiopn_Score  Danotiopn_Score_1  Years  Months  \n",
       "0             50.5               50.5      8       2  \n",
       "1              inf               13.0      2       4  \n",
       "2             17.0               17.0      2      11  \n",
       "3             20.5               20.5      3       9  \n",
       "4             25.0               25.0      6       5  "
      ]
     },
     "execution_count": 57,
     "metadata": {},
     "output_type": "execute_result"
    }
   ],
   "source": [
    "df.head()"
   ]
  },
  {
   "cell_type": "markdown",
   "id": "c8334abb",
   "metadata": {},
   "source": [
    "## Create donor groups based on 'Frequency' (Grouping and Aggregation)"
   ]
  },
  {
   "cell_type": "code",
   "execution_count": 58,
   "id": "13b4b3e2",
   "metadata": {},
   "outputs": [
    {
     "data": {
      "text/html": [
       "<div>\n",
       "<style scoped>\n",
       "    .dataframe tbody tr th:only-of-type {\n",
       "        vertical-align: middle;\n",
       "    }\n",
       "\n",
       "    .dataframe tbody tr th {\n",
       "        vertical-align: top;\n",
       "    }\n",
       "\n",
       "    .dataframe thead th {\n",
       "        text-align: right;\n",
       "    }\n",
       "</style>\n",
       "<table border=\"1\" class=\"dataframe\">\n",
       "  <thead>\n",
       "    <tr style=\"text-align: right;\">\n",
       "      <th></th>\n",
       "      <th>count</th>\n",
       "      <th>mean</th>\n",
       "      <th>std</th>\n",
       "      <th>min</th>\n",
       "      <th>25%</th>\n",
       "      <th>50%</th>\n",
       "      <th>75%</th>\n",
       "      <th>max</th>\n",
       "    </tr>\n",
       "  </thead>\n",
       "  <tbody>\n",
       "    <tr>\n",
       "      <th>Recency</th>\n",
       "      <td>748.0</td>\n",
       "      <td>9.506684</td>\n",
       "      <td>8.095396</td>\n",
       "      <td>0.000000</td>\n",
       "      <td>2.750000</td>\n",
       "      <td>7.000000</td>\n",
       "      <td>14.00</td>\n",
       "      <td>74.0</td>\n",
       "    </tr>\n",
       "    <tr>\n",
       "      <th>Frequency</th>\n",
       "      <td>748.0</td>\n",
       "      <td>5.514706</td>\n",
       "      <td>5.839307</td>\n",
       "      <td>1.000000</td>\n",
       "      <td>2.000000</td>\n",
       "      <td>4.000000</td>\n",
       "      <td>7.00</td>\n",
       "      <td>50.0</td>\n",
       "    </tr>\n",
       "    <tr>\n",
       "      <th>Monetary</th>\n",
       "      <td>748.0</td>\n",
       "      <td>1378.676471</td>\n",
       "      <td>1459.826781</td>\n",
       "      <td>250.000000</td>\n",
       "      <td>500.000000</td>\n",
       "      <td>1000.000000</td>\n",
       "      <td>1750.00</td>\n",
       "      <td>12500.0</td>\n",
       "    </tr>\n",
       "    <tr>\n",
       "      <th>Time</th>\n",
       "      <td>748.0</td>\n",
       "      <td>34.282086</td>\n",
       "      <td>24.376714</td>\n",
       "      <td>2.000000</td>\n",
       "      <td>16.000000</td>\n",
       "      <td>28.000000</td>\n",
       "      <td>50.00</td>\n",
       "      <td>98.0</td>\n",
       "    </tr>\n",
       "    <tr>\n",
       "      <th>Target</th>\n",
       "      <td>748.0</td>\n",
       "      <td>0.237968</td>\n",
       "      <td>0.426124</td>\n",
       "      <td>0.000000</td>\n",
       "      <td>0.000000</td>\n",
       "      <td>0.000000</td>\n",
       "      <td>0.00</td>\n",
       "      <td>1.0</td>\n",
       "    </tr>\n",
       "    <tr>\n",
       "      <th>Donation_Period</th>\n",
       "      <td>748.0</td>\n",
       "      <td>24.775401</td>\n",
       "      <td>24.420630</td>\n",
       "      <td>0.000000</td>\n",
       "      <td>0.000000</td>\n",
       "      <td>19.000000</td>\n",
       "      <td>41.00</td>\n",
       "      <td>96.0</td>\n",
       "    </tr>\n",
       "    <tr>\n",
       "      <th>Danotiopn_Score</th>\n",
       "      <td>748.0</td>\n",
       "      <td>inf</td>\n",
       "      <td>NaN</td>\n",
       "      <td>1.013514</td>\n",
       "      <td>2.071429</td>\n",
       "      <td>4.071429</td>\n",
       "      <td>7.25</td>\n",
       "      <td>inf</td>\n",
       "    </tr>\n",
       "    <tr>\n",
       "      <th>Danotiopn_Score_1</th>\n",
       "      <td>748.0</td>\n",
       "      <td>5.739404</td>\n",
       "      <td>5.875640</td>\n",
       "      <td>1.013514</td>\n",
       "      <td>2.071429</td>\n",
       "      <td>4.071429</td>\n",
       "      <td>7.25</td>\n",
       "      <td>50.5</td>\n",
       "    </tr>\n",
       "    <tr>\n",
       "      <th>Years</th>\n",
       "      <td>748.0</td>\n",
       "      <td>2.394385</td>\n",
       "      <td>2.038011</td>\n",
       "      <td>0.000000</td>\n",
       "      <td>1.000000</td>\n",
       "      <td>2.000000</td>\n",
       "      <td>4.00</td>\n",
       "      <td>8.0</td>\n",
       "    </tr>\n",
       "    <tr>\n",
       "      <th>Months</th>\n",
       "      <td>748.0</td>\n",
       "      <td>5.549465</td>\n",
       "      <td>3.546058</td>\n",
       "      <td>0.000000</td>\n",
       "      <td>2.000000</td>\n",
       "      <td>4.000000</td>\n",
       "      <td>9.00</td>\n",
       "      <td>11.0</td>\n",
       "    </tr>\n",
       "  </tbody>\n",
       "</table>\n",
       "</div>"
      ],
      "text/plain": [
       "                   count         mean          std         min         25%  \\\n",
       "Recency            748.0     9.506684     8.095396    0.000000    2.750000   \n",
       "Frequency          748.0     5.514706     5.839307    1.000000    2.000000   \n",
       "Monetary           748.0  1378.676471  1459.826781  250.000000  500.000000   \n",
       "Time               748.0    34.282086    24.376714    2.000000   16.000000   \n",
       "Target             748.0     0.237968     0.426124    0.000000    0.000000   \n",
       "Donation_Period    748.0    24.775401    24.420630    0.000000    0.000000   \n",
       "Danotiopn_Score    748.0          inf          NaN    1.013514    2.071429   \n",
       "Danotiopn_Score_1  748.0     5.739404     5.875640    1.013514    2.071429   \n",
       "Years              748.0     2.394385     2.038011    0.000000    1.000000   \n",
       "Months             748.0     5.549465     3.546058    0.000000    2.000000   \n",
       "\n",
       "                           50%      75%      max  \n",
       "Recency               7.000000    14.00     74.0  \n",
       "Frequency             4.000000     7.00     50.0  \n",
       "Monetary           1000.000000  1750.00  12500.0  \n",
       "Time                 28.000000    50.00     98.0  \n",
       "Target                0.000000     0.00      1.0  \n",
       "Donation_Period      19.000000    41.00     96.0  \n",
       "Danotiopn_Score       4.071429     7.25      inf  \n",
       "Danotiopn_Score_1     4.071429     7.25     50.5  \n",
       "Years                 2.000000     4.00      8.0  \n",
       "Months                4.000000     9.00     11.0  "
      ]
     },
     "execution_count": 58,
     "metadata": {},
     "output_type": "execute_result"
    }
   ],
   "source": [
    "df.describe().T"
   ]
  },
  {
   "cell_type": "code",
   "execution_count": 59,
   "id": "118ba57c",
   "metadata": {
    "ExecuteTime": {
     "end_time": "2023-09-18T20:22:55.836436Z",
     "start_time": "2023-09-18T20:22:55.816924Z"
    }
   },
   "outputs": [
    {
     "data": {
      "text/plain": [
       "0        High\n",
       "1      Medium\n",
       "2        High\n",
       "3        High\n",
       "4        High\n",
       "        ...  \n",
       "743       Low\n",
       "744       Low\n",
       "745       Low\n",
       "746       Low\n",
       "747       Low\n",
       "Name: Frequency_Group, Length: 748, dtype: category\n",
       "Categories (3, object): ['Low' < 'Medium' < 'High']"
      ]
     },
     "execution_count": 59,
     "metadata": {},
     "output_type": "execute_result"
    }
   ],
   "source": [
    "bins = [0, 4, 14, 50 ]\n",
    "\n",
    "group_names = [\"Low\", \"Medium\", \"High\"]\n",
    "\n",
    "\n",
    "df[\"Frequency_Group\"] = pd.cut(df.Frequency, bins, labels= group_names)\n",
    "\n",
    "\n",
    "df[\"Frequency_Group\"]"
   ]
  },
  {
   "cell_type": "code",
   "execution_count": 60,
   "id": "ea3062a1",
   "metadata": {},
   "outputs": [
    {
     "data": {
      "text/html": [
       "<div>\n",
       "<style scoped>\n",
       "    .dataframe tbody tr th:only-of-type {\n",
       "        vertical-align: middle;\n",
       "    }\n",
       "\n",
       "    .dataframe tbody tr th {\n",
       "        vertical-align: top;\n",
       "    }\n",
       "\n",
       "    .dataframe thead th {\n",
       "        text-align: right;\n",
       "    }\n",
       "</style>\n",
       "<table border=\"1\" class=\"dataframe\">\n",
       "  <thead>\n",
       "    <tr style=\"text-align: right;\">\n",
       "      <th></th>\n",
       "      <th>Recency</th>\n",
       "      <th>Frequency</th>\n",
       "      <th>Monetary</th>\n",
       "      <th>Time</th>\n",
       "      <th>Target</th>\n",
       "      <th>Donation_Period</th>\n",
       "      <th>Danotiopn_Score</th>\n",
       "      <th>Danotiopn_Score_1</th>\n",
       "      <th>Years</th>\n",
       "      <th>Months</th>\n",
       "      <th>Frequency_Group</th>\n",
       "    </tr>\n",
       "  </thead>\n",
       "  <tbody>\n",
       "    <tr>\n",
       "      <th>557</th>\n",
       "      <td>4</td>\n",
       "      <td>6</td>\n",
       "      <td>1500</td>\n",
       "      <td>30</td>\n",
       "      <td>0</td>\n",
       "      <td>26</td>\n",
       "      <td>6.250000</td>\n",
       "      <td>6.250000</td>\n",
       "      <td>2</td>\n",
       "      <td>6</td>\n",
       "      <td>Medium</td>\n",
       "    </tr>\n",
       "    <tr>\n",
       "      <th>394</th>\n",
       "      <td>16</td>\n",
       "      <td>4</td>\n",
       "      <td>1000</td>\n",
       "      <td>40</td>\n",
       "      <td>0</td>\n",
       "      <td>24</td>\n",
       "      <td>4.062500</td>\n",
       "      <td>4.062500</td>\n",
       "      <td>3</td>\n",
       "      <td>4</td>\n",
       "      <td>Low</td>\n",
       "    </tr>\n",
       "    <tr>\n",
       "      <th>296</th>\n",
       "      <td>14</td>\n",
       "      <td>5</td>\n",
       "      <td>1250</td>\n",
       "      <td>28</td>\n",
       "      <td>0</td>\n",
       "      <td>14</td>\n",
       "      <td>5.071429</td>\n",
       "      <td>5.071429</td>\n",
       "      <td>2</td>\n",
       "      <td>4</td>\n",
       "      <td>Medium</td>\n",
       "    </tr>\n",
       "    <tr>\n",
       "      <th>106</th>\n",
       "      <td>0</td>\n",
       "      <td>8</td>\n",
       "      <td>2000</td>\n",
       "      <td>59</td>\n",
       "      <td>0</td>\n",
       "      <td>59</td>\n",
       "      <td>inf</td>\n",
       "      <td>8.000000</td>\n",
       "      <td>4</td>\n",
       "      <td>11</td>\n",
       "      <td>Medium</td>\n",
       "    </tr>\n",
       "    <tr>\n",
       "      <th>597</th>\n",
       "      <td>4</td>\n",
       "      <td>6</td>\n",
       "      <td>1500</td>\n",
       "      <td>43</td>\n",
       "      <td>0</td>\n",
       "      <td>39</td>\n",
       "      <td>6.250000</td>\n",
       "      <td>6.250000</td>\n",
       "      <td>3</td>\n",
       "      <td>7</td>\n",
       "      <td>Medium</td>\n",
       "    </tr>\n",
       "    <tr>\n",
       "      <th>640</th>\n",
       "      <td>11</td>\n",
       "      <td>8</td>\n",
       "      <td>2000</td>\n",
       "      <td>52</td>\n",
       "      <td>1</td>\n",
       "      <td>41</td>\n",
       "      <td>8.090909</td>\n",
       "      <td>8.090909</td>\n",
       "      <td>4</td>\n",
       "      <td>4</td>\n",
       "      <td>Medium</td>\n",
       "    </tr>\n",
       "    <tr>\n",
       "      <th>428</th>\n",
       "      <td>23</td>\n",
       "      <td>3</td>\n",
       "      <td>750</td>\n",
       "      <td>28</td>\n",
       "      <td>0</td>\n",
       "      <td>5</td>\n",
       "      <td>3.043478</td>\n",
       "      <td>3.043478</td>\n",
       "      <td>2</td>\n",
       "      <td>4</td>\n",
       "      <td>Low</td>\n",
       "    </tr>\n",
       "    <tr>\n",
       "      <th>232</th>\n",
       "      <td>4</td>\n",
       "      <td>1</td>\n",
       "      <td>250</td>\n",
       "      <td>4</td>\n",
       "      <td>0</td>\n",
       "      <td>0</td>\n",
       "      <td>1.250000</td>\n",
       "      <td>1.250000</td>\n",
       "      <td>0</td>\n",
       "      <td>4</td>\n",
       "      <td>Low</td>\n",
       "    </tr>\n",
       "    <tr>\n",
       "      <th>492</th>\n",
       "      <td>23</td>\n",
       "      <td>4</td>\n",
       "      <td>1000</td>\n",
       "      <td>87</td>\n",
       "      <td>0</td>\n",
       "      <td>64</td>\n",
       "      <td>4.043478</td>\n",
       "      <td>4.043478</td>\n",
       "      <td>7</td>\n",
       "      <td>3</td>\n",
       "      <td>Low</td>\n",
       "    </tr>\n",
       "    <tr>\n",
       "      <th>133</th>\n",
       "      <td>4</td>\n",
       "      <td>6</td>\n",
       "      <td>1500</td>\n",
       "      <td>35</td>\n",
       "      <td>0</td>\n",
       "      <td>31</td>\n",
       "      <td>6.250000</td>\n",
       "      <td>6.250000</td>\n",
       "      <td>2</td>\n",
       "      <td>11</td>\n",
       "      <td>Medium</td>\n",
       "    </tr>\n",
       "  </tbody>\n",
       "</table>\n",
       "</div>"
      ],
      "text/plain": [
       "     Recency  Frequency  Monetary  Time  Target  Donation_Period  \\\n",
       "557        4          6      1500    30       0               26   \n",
       "394       16          4      1000    40       0               24   \n",
       "296       14          5      1250    28       0               14   \n",
       "106        0          8      2000    59       0               59   \n",
       "597        4          6      1500    43       0               39   \n",
       "640       11          8      2000    52       1               41   \n",
       "428       23          3       750    28       0                5   \n",
       "232        4          1       250     4       0                0   \n",
       "492       23          4      1000    87       0               64   \n",
       "133        4          6      1500    35       0               31   \n",
       "\n",
       "     Danotiopn_Score  Danotiopn_Score_1  Years  Months Frequency_Group  \n",
       "557         6.250000           6.250000      2       6          Medium  \n",
       "394         4.062500           4.062500      3       4             Low  \n",
       "296         5.071429           5.071429      2       4          Medium  \n",
       "106              inf           8.000000      4      11          Medium  \n",
       "597         6.250000           6.250000      3       7          Medium  \n",
       "640         8.090909           8.090909      4       4          Medium  \n",
       "428         3.043478           3.043478      2       4             Low  \n",
       "232         1.250000           1.250000      0       4             Low  \n",
       "492         4.043478           4.043478      7       3             Low  \n",
       "133         6.250000           6.250000      2      11          Medium  "
      ]
     },
     "execution_count": 60,
     "metadata": {},
     "output_type": "execute_result"
    }
   ],
   "source": [
    "df.sample(10)"
   ]
  },
  {
   "cell_type": "markdown",
   "id": "74a95d03",
   "metadata": {},
   "source": [
    "## Create a new categorical variable based on 'Recency'"
   ]
  },
  {
   "cell_type": "code",
   "execution_count": 61,
   "id": "298a39df",
   "metadata": {},
   "outputs": [
    {
     "data": {
      "text/html": [
       "<div>\n",
       "<style scoped>\n",
       "    .dataframe tbody tr th:only-of-type {\n",
       "        vertical-align: middle;\n",
       "    }\n",
       "\n",
       "    .dataframe tbody tr th {\n",
       "        vertical-align: top;\n",
       "    }\n",
       "\n",
       "    .dataframe thead th {\n",
       "        text-align: right;\n",
       "    }\n",
       "</style>\n",
       "<table border=\"1\" class=\"dataframe\">\n",
       "  <thead>\n",
       "    <tr style=\"text-align: right;\">\n",
       "      <th></th>\n",
       "      <th>count</th>\n",
       "      <th>mean</th>\n",
       "      <th>std</th>\n",
       "      <th>min</th>\n",
       "      <th>25%</th>\n",
       "      <th>50%</th>\n",
       "      <th>75%</th>\n",
       "      <th>max</th>\n",
       "    </tr>\n",
       "  </thead>\n",
       "  <tbody>\n",
       "    <tr>\n",
       "      <th>Recency</th>\n",
       "      <td>748.0</td>\n",
       "      <td>9.506684</td>\n",
       "      <td>8.095396</td>\n",
       "      <td>0.000000</td>\n",
       "      <td>2.750000</td>\n",
       "      <td>7.000000</td>\n",
       "      <td>14.00</td>\n",
       "      <td>74.0</td>\n",
       "    </tr>\n",
       "    <tr>\n",
       "      <th>Frequency</th>\n",
       "      <td>748.0</td>\n",
       "      <td>5.514706</td>\n",
       "      <td>5.839307</td>\n",
       "      <td>1.000000</td>\n",
       "      <td>2.000000</td>\n",
       "      <td>4.000000</td>\n",
       "      <td>7.00</td>\n",
       "      <td>50.0</td>\n",
       "    </tr>\n",
       "    <tr>\n",
       "      <th>Monetary</th>\n",
       "      <td>748.0</td>\n",
       "      <td>1378.676471</td>\n",
       "      <td>1459.826781</td>\n",
       "      <td>250.000000</td>\n",
       "      <td>500.000000</td>\n",
       "      <td>1000.000000</td>\n",
       "      <td>1750.00</td>\n",
       "      <td>12500.0</td>\n",
       "    </tr>\n",
       "    <tr>\n",
       "      <th>Time</th>\n",
       "      <td>748.0</td>\n",
       "      <td>34.282086</td>\n",
       "      <td>24.376714</td>\n",
       "      <td>2.000000</td>\n",
       "      <td>16.000000</td>\n",
       "      <td>28.000000</td>\n",
       "      <td>50.00</td>\n",
       "      <td>98.0</td>\n",
       "    </tr>\n",
       "    <tr>\n",
       "      <th>Target</th>\n",
       "      <td>748.0</td>\n",
       "      <td>0.237968</td>\n",
       "      <td>0.426124</td>\n",
       "      <td>0.000000</td>\n",
       "      <td>0.000000</td>\n",
       "      <td>0.000000</td>\n",
       "      <td>0.00</td>\n",
       "      <td>1.0</td>\n",
       "    </tr>\n",
       "    <tr>\n",
       "      <th>Donation_Period</th>\n",
       "      <td>748.0</td>\n",
       "      <td>24.775401</td>\n",
       "      <td>24.420630</td>\n",
       "      <td>0.000000</td>\n",
       "      <td>0.000000</td>\n",
       "      <td>19.000000</td>\n",
       "      <td>41.00</td>\n",
       "      <td>96.0</td>\n",
       "    </tr>\n",
       "    <tr>\n",
       "      <th>Danotiopn_Score</th>\n",
       "      <td>748.0</td>\n",
       "      <td>inf</td>\n",
       "      <td>NaN</td>\n",
       "      <td>1.013514</td>\n",
       "      <td>2.071429</td>\n",
       "      <td>4.071429</td>\n",
       "      <td>7.25</td>\n",
       "      <td>inf</td>\n",
       "    </tr>\n",
       "    <tr>\n",
       "      <th>Danotiopn_Score_1</th>\n",
       "      <td>748.0</td>\n",
       "      <td>5.739404</td>\n",
       "      <td>5.875640</td>\n",
       "      <td>1.013514</td>\n",
       "      <td>2.071429</td>\n",
       "      <td>4.071429</td>\n",
       "      <td>7.25</td>\n",
       "      <td>50.5</td>\n",
       "    </tr>\n",
       "    <tr>\n",
       "      <th>Years</th>\n",
       "      <td>748.0</td>\n",
       "      <td>2.394385</td>\n",
       "      <td>2.038011</td>\n",
       "      <td>0.000000</td>\n",
       "      <td>1.000000</td>\n",
       "      <td>2.000000</td>\n",
       "      <td>4.00</td>\n",
       "      <td>8.0</td>\n",
       "    </tr>\n",
       "    <tr>\n",
       "      <th>Months</th>\n",
       "      <td>748.0</td>\n",
       "      <td>5.549465</td>\n",
       "      <td>3.546058</td>\n",
       "      <td>0.000000</td>\n",
       "      <td>2.000000</td>\n",
       "      <td>4.000000</td>\n",
       "      <td>9.00</td>\n",
       "      <td>11.0</td>\n",
       "    </tr>\n",
       "  </tbody>\n",
       "</table>\n",
       "</div>"
      ],
      "text/plain": [
       "                   count         mean          std         min         25%  \\\n",
       "Recency            748.0     9.506684     8.095396    0.000000    2.750000   \n",
       "Frequency          748.0     5.514706     5.839307    1.000000    2.000000   \n",
       "Monetary           748.0  1378.676471  1459.826781  250.000000  500.000000   \n",
       "Time               748.0    34.282086    24.376714    2.000000   16.000000   \n",
       "Target             748.0     0.237968     0.426124    0.000000    0.000000   \n",
       "Donation_Period    748.0    24.775401    24.420630    0.000000    0.000000   \n",
       "Danotiopn_Score    748.0          inf          NaN    1.013514    2.071429   \n",
       "Danotiopn_Score_1  748.0     5.739404     5.875640    1.013514    2.071429   \n",
       "Years              748.0     2.394385     2.038011    0.000000    1.000000   \n",
       "Months             748.0     5.549465     3.546058    0.000000    2.000000   \n",
       "\n",
       "                           50%      75%      max  \n",
       "Recency               7.000000    14.00     74.0  \n",
       "Frequency             4.000000     7.00     50.0  \n",
       "Monetary           1000.000000  1750.00  12500.0  \n",
       "Time                 28.000000    50.00     98.0  \n",
       "Target                0.000000     0.00      1.0  \n",
       "Donation_Period      19.000000    41.00     96.0  \n",
       "Danotiopn_Score       4.071429     7.25      inf  \n",
       "Danotiopn_Score_1     4.071429     7.25     50.5  \n",
       "Years                 2.000000     4.00      8.0  \n",
       "Months                4.000000     9.00     11.0  "
      ]
     },
     "execution_count": 61,
     "metadata": {},
     "output_type": "execute_result"
    }
   ],
   "source": [
    "df.describe().T"
   ]
  },
  {
   "cell_type": "code",
   "execution_count": 62,
   "id": "1593f2ea",
   "metadata": {
    "ExecuteTime": {
     "end_time": "2023-09-18T20:27:11.415075Z",
     "start_time": "2023-09-18T20:27:11.381578Z"
    }
   },
   "outputs": [
    {
     "data": {
      "text/plain": [
       "0       0-12 Months\n",
       "1       0-12 Months\n",
       "2       0-12 Months\n",
       "3       0-12 Months\n",
       "4       0-12 Months\n",
       "           ...     \n",
       "743    13-24 Months\n",
       "744    13-24 Months\n",
       "745    13-24 Months\n",
       "746    37-74 Months\n",
       "747    37-74 Months\n",
       "Name: Recency_Group, Length: 748, dtype: category\n",
       "Categories (4, object): ['0-12 Months' < '13-24 Months' < '25-36 Months' < '37-74 Months']"
      ]
     },
     "execution_count": 62,
     "metadata": {},
     "output_type": "execute_result"
    }
   ],
   "source": [
    "bins = [-1, 12, 24, 36, 75 ]\n",
    "\n",
    "group_names = [\"0-12 Months\", \"13-24 Months\", \"25-36 Months\", \"37-74 Months\"]\n",
    "\n",
    "\n",
    "df[\"Recency_Group\"] = pd.cut(df.Recency, bins, labels= group_names)\n",
    "\n",
    "\n",
    "df[\"Recency_Group\"]"
   ]
  },
  {
   "cell_type": "code",
   "execution_count": 63,
   "id": "a1559843",
   "metadata": {},
   "outputs": [
    {
     "data": {
      "text/html": [
       "<div>\n",
       "<style scoped>\n",
       "    .dataframe tbody tr th:only-of-type {\n",
       "        vertical-align: middle;\n",
       "    }\n",
       "\n",
       "    .dataframe tbody tr th {\n",
       "        vertical-align: top;\n",
       "    }\n",
       "\n",
       "    .dataframe thead th {\n",
       "        text-align: right;\n",
       "    }\n",
       "</style>\n",
       "<table border=\"1\" class=\"dataframe\">\n",
       "  <thead>\n",
       "    <tr style=\"text-align: right;\">\n",
       "      <th></th>\n",
       "      <th>Recency</th>\n",
       "      <th>Frequency</th>\n",
       "      <th>Monetary</th>\n",
       "      <th>Time</th>\n",
       "      <th>Target</th>\n",
       "      <th>Donation_Period</th>\n",
       "      <th>Danotiopn_Score</th>\n",
       "      <th>Danotiopn_Score_1</th>\n",
       "      <th>Years</th>\n",
       "      <th>Months</th>\n",
       "      <th>Frequency_Group</th>\n",
       "      <th>Recency_Group</th>\n",
       "    </tr>\n",
       "  </thead>\n",
       "  <tbody>\n",
       "    <tr>\n",
       "      <th>0</th>\n",
       "      <td>2</td>\n",
       "      <td>50</td>\n",
       "      <td>12500</td>\n",
       "      <td>98</td>\n",
       "      <td>1</td>\n",
       "      <td>96</td>\n",
       "      <td>50.5</td>\n",
       "      <td>50.5</td>\n",
       "      <td>8</td>\n",
       "      <td>2</td>\n",
       "      <td>High</td>\n",
       "      <td>0-12 Months</td>\n",
       "    </tr>\n",
       "    <tr>\n",
       "      <th>1</th>\n",
       "      <td>0</td>\n",
       "      <td>13</td>\n",
       "      <td>3250</td>\n",
       "      <td>28</td>\n",
       "      <td>1</td>\n",
       "      <td>28</td>\n",
       "      <td>inf</td>\n",
       "      <td>13.0</td>\n",
       "      <td>2</td>\n",
       "      <td>4</td>\n",
       "      <td>Medium</td>\n",
       "      <td>0-12 Months</td>\n",
       "    </tr>\n",
       "    <tr>\n",
       "      <th>2</th>\n",
       "      <td>1</td>\n",
       "      <td>16</td>\n",
       "      <td>4000</td>\n",
       "      <td>35</td>\n",
       "      <td>1</td>\n",
       "      <td>34</td>\n",
       "      <td>17.0</td>\n",
       "      <td>17.0</td>\n",
       "      <td>2</td>\n",
       "      <td>11</td>\n",
       "      <td>High</td>\n",
       "      <td>0-12 Months</td>\n",
       "    </tr>\n",
       "    <tr>\n",
       "      <th>3</th>\n",
       "      <td>2</td>\n",
       "      <td>20</td>\n",
       "      <td>5000</td>\n",
       "      <td>45</td>\n",
       "      <td>1</td>\n",
       "      <td>43</td>\n",
       "      <td>20.5</td>\n",
       "      <td>20.5</td>\n",
       "      <td>3</td>\n",
       "      <td>9</td>\n",
       "      <td>High</td>\n",
       "      <td>0-12 Months</td>\n",
       "    </tr>\n",
       "    <tr>\n",
       "      <th>4</th>\n",
       "      <td>1</td>\n",
       "      <td>24</td>\n",
       "      <td>6000</td>\n",
       "      <td>77</td>\n",
       "      <td>0</td>\n",
       "      <td>76</td>\n",
       "      <td>25.0</td>\n",
       "      <td>25.0</td>\n",
       "      <td>6</td>\n",
       "      <td>5</td>\n",
       "      <td>High</td>\n",
       "      <td>0-12 Months</td>\n",
       "    </tr>\n",
       "  </tbody>\n",
       "</table>\n",
       "</div>"
      ],
      "text/plain": [
       "   Recency  Frequency  Monetary  Time  Target  Donation_Period  \\\n",
       "0        2         50     12500    98       1               96   \n",
       "1        0         13      3250    28       1               28   \n",
       "2        1         16      4000    35       1               34   \n",
       "3        2         20      5000    45       1               43   \n",
       "4        1         24      6000    77       0               76   \n",
       "\n",
       "   Danotiopn_Score  Danotiopn_Score_1  Years  Months Frequency_Group  \\\n",
       "0             50.5               50.5      8       2            High   \n",
       "1              inf               13.0      2       4          Medium   \n",
       "2             17.0               17.0      2      11            High   \n",
       "3             20.5               20.5      3       9            High   \n",
       "4             25.0               25.0      6       5            High   \n",
       "\n",
       "  Recency_Group  \n",
       "0   0-12 Months  \n",
       "1   0-12 Months  \n",
       "2   0-12 Months  \n",
       "3   0-12 Months  \n",
       "4   0-12 Months  "
      ]
     },
     "execution_count": 63,
     "metadata": {},
     "output_type": "execute_result"
    }
   ],
   "source": [
    "df.head()"
   ]
  },
  {
   "cell_type": "markdown",
   "id": "6f5c394f",
   "metadata": {},
   "source": [
    "## Check the distribution of the 'Target' variable"
   ]
  },
  {
   "cell_type": "code",
   "execution_count": 64,
   "id": "0b0b268f",
   "metadata": {
    "ExecuteTime": {
     "end_time": "2023-09-18T20:29:46.262146Z",
     "start_time": "2023-09-18T20:29:46.249153Z"
    }
   },
   "outputs": [
    {
     "data": {
      "text/plain": [
       "Target\n",
       "0    0.762032\n",
       "1    0.237968\n",
       "Name: proportion, dtype: float64"
      ]
     },
     "execution_count": 64,
     "metadata": {},
     "output_type": "execute_result"
    }
   ],
   "source": [
    "df.Target.value_counts(normalize=True)"
   ]
  },
  {
   "cell_type": "code",
   "execution_count": 65,
   "id": "0fbb887b",
   "metadata": {},
   "outputs": [
    {
     "data": {
      "text/plain": [
       "Frequency_Group\n",
       "Low       419\n",
       "Medium    284\n",
       "High       45\n",
       "Name: count, dtype: int64"
      ]
     },
     "execution_count": 65,
     "metadata": {},
     "output_type": "execute_result"
    }
   ],
   "source": [
    "df.Frequency_Group.value_counts()"
   ]
  },
  {
   "cell_type": "code",
   "execution_count": 66,
   "id": "70d45318",
   "metadata": {},
   "outputs": [
    {
     "data": {
      "text/plain": [
       "Frequency_Group\n",
       "Low       0.560160\n",
       "Medium    0.379679\n",
       "High      0.060160\n",
       "Name: proportion, dtype: float64"
      ]
     },
     "execution_count": 66,
     "metadata": {},
     "output_type": "execute_result"
    }
   ],
   "source": [
    "df.Frequency_Group.value_counts(normalize=True)"
   ]
  },
  {
   "cell_type": "code",
   "execution_count": 67,
   "id": "95f4252c",
   "metadata": {},
   "outputs": [
    {
     "data": {
      "text/plain": [
       "['High', 'Medium', 'Low']\n",
       "Categories (3, object): ['Low' < 'Medium' < 'High']"
      ]
     },
     "execution_count": 67,
     "metadata": {},
     "output_type": "execute_result"
    }
   ],
   "source": [
    "df.Frequency_Group.unique()"
   ]
  },
  {
   "cell_type": "code",
   "execution_count": 68,
   "id": "40884c8f",
   "metadata": {},
   "outputs": [
    {
     "data": {
      "text/plain": [
       "3"
      ]
     },
     "execution_count": 68,
     "metadata": {},
     "output_type": "execute_result"
    }
   ],
   "source": [
    "df.Frequency_Group.nunique()"
   ]
  }
 ],
 "metadata": {
  "kernelspec": {
   "display_name": "Python 3 (ipykernel)",
   "language": "python",
   "name": "python3"
  },
  "language_info": {
   "codemirror_mode": {
    "name": "ipython",
    "version": 3
   },
   "file_extension": ".py",
   "mimetype": "text/x-python",
   "name": "python",
   "nbconvert_exporter": "python",
   "pygments_lexer": "ipython3",
   "version": "3.11.5"
  },
  "toc": {
   "base_numbering": 1,
   "nav_menu": {},
   "number_sections": true,
   "sideBar": true,
   "skip_h1_title": false,
   "title_cell": "Table of Contents",
   "title_sidebar": "Contents",
   "toc_cell": false,
   "toc_position": {
    "height": "calc(100% - 180px)",
    "left": "10px",
    "top": "150px",
    "width": "359px"
   },
   "toc_section_display": true,
   "toc_window_display": false
  }
 },
 "nbformat": 4,
 "nbformat_minor": 5
}
