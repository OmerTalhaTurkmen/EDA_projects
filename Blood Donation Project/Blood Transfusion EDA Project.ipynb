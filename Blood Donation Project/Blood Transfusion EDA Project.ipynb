{
 "cells": [
  {
   "cell_type": "markdown",
   "id": "e30f06e2",
   "metadata": {},
   "source": [
    "# Blood Transfusion EDA Project"
   ]
  },
  {
   "cell_type": "markdown",
   "id": "d2fa0c2e",
   "metadata": {},
   "source": [
    "<p>From replacing blood lost during major surgery or a serious injury to treating various diseases and blood disorders, blood transfusions save lives. Ensuring that enough blood is available when it is needed is a serious challenge for health professionals. According to <a href=\"https://www.webmd.com/a-to-z-guides/blood-transfusion-what-to-know#1\">WebMD</a> about 5 million Americans need blood transfusions each year.</p>\n",
    "\n",
    "<p>The dataset is from a mobile blood donation vehicle in Taiwan.</p>"
   ]
  },
  {
   "cell_type": "markdown",
   "id": "a2756f57-5fb5-4174-8a25-ae7adc128790",
   "metadata": {},
   "source": [
    "# **Content**\n",
    "\n",
    "1. [Introduction](#1.)\n",
    "1. [Importing Libraries](#2.)\n",
    "1. [Reading the Dataset](#3.)\n",
    "1. [Exploratory Data Analysis](#4.)"
   ]
  },
  {
   "cell_type": "markdown",
   "id": "9d003841-23e1-49f6-82d4-407b3307b106",
   "metadata": {},
   "source": [
    "<a id=\"1.\"></a> \n",
    "# Introduction"
   ]
  },
  {
   "cell_type": "markdown",
   "id": "8915abb0",
   "metadata": {},
   "source": [
    "RFM is often used for customer segmentation and enables analysis of attributes such as when (Recency), how often (Frequency), and how much money customers spend (Monetary).\n",
    "\n",
    "These attributes are often adapted for customer lifetime value modeling, churn prediction, customer segmentation, etc.\n",
    "\n",
    "However, these features are used for blood donation, which is a social good.\n",
    "\n",
    "In this dataset:\n",
    "\n",
    "**RFMTC Components**\n",
    "\n",
    "1. **Recency (R) — \"Recency (months)\"**\n",
    "    - This characteristic represents how long it has been since a donor's last donation. Generally, donors whose last donation was more recent are more likely to donate again.\n",
    "  \n",
    "2. **Frequency (F) — \"Frequency (times)\"**\n",
    "    - This shows how often a donor donates blood. People who donate more frequently are generally more likely to donate in the future.\n",
    "  \n",
    "3. **Monetary (M) — \"Monetary (c.c. blood)\"**\n",
    "    - This attribute represents how much blood the donor has donated in total. Generally, donors who donate a higher amount of blood are considered to have a higher value.\n",
    "\n",
    "4. **Time (T) — \"Time (months)\"**\n",
    "    - This shows how long it has been since a donor's first donation. This can be used to understand how \"loyal\" the donor has been during the donation period.\n",
    "\n",
    "5. **Churn (C) — \"whether he/she donated blood in March 2007\"**\n",
    "    - This shows whether or not a donor donated in a specific period (March 2007). Churn, in this example, represents the probability that the donor did not donate in that period.\n",
    "\n",
    "**Uses of RFMTC**\n",
    "\n",
    "1. **Segmentation**: Donors can be categorized into different segments using these attributes. For example, donors with high \"F\" and low \"R\" values can be labeled as \"Loyal Donors\".\n",
    "\n",
    "2. **Forecasting**: The likelihood of future giving can be predicted using current RFMTC values.\n",
    "\n",
    "3. **Targeting**: Special campaigns or incentives can be used to target specific donor segments.\n",
    "\n",
    "4. **Risk Analysis**: Donors with low frequency and high churn rates can be labeled as \"Risky\", and specific strategies can be developed for these donors.\n",
    "\n",
    "This modeling technique is useful for understanding the future behavior of donors and managing them more effectively.\n",
    "\n",
    "It can be used to model the likelihood of donors donating blood in the future."
   ]
  },
  {
   "cell_type": "markdown",
   "id": "04f11be3",
   "metadata": {},
   "source": [
    "<a id=\"2.\"></a> \n",
    "# Importing Libraries"
   ]
  },
  {
   "cell_type": "code",
   "execution_count": 4,
   "id": "24a4d367",
   "metadata": {
    "ExecuteTime": {
     "end_time": "2023-09-18T18:03:47.300348Z",
     "start_time": "2023-09-18T18:03:45.966066Z"
    }
   },
   "outputs": [],
   "source": [
    "import numpy as np\n",
    "import pandas as pd"
   ]
  },
  {
   "cell_type": "markdown",
   "id": "aceacad1",
   "metadata": {},
   "source": [
    "# Exploratory Data Analysis"
   ]
  },
  {
   "cell_type": "code",
   "execution_count": 5,
   "id": "7e6dde0a",
   "metadata": {
    "ExecuteTime": {
     "end_time": "2023-09-18T18:03:56.397258Z",
     "start_time": "2023-09-18T18:03:56.326588Z"
    }
   },
   "outputs": [
    {
     "ename": "FileNotFoundError",
     "evalue": "[Errno 2] No such file or directory: 'transfusion.data'",
     "output_type": "error",
     "traceback": [
      "\u001b[1;31m---------------------------------------------------------------------------\u001b[0m",
      "\u001b[1;31mFileNotFoundError\u001b[0m                         Traceback (most recent call last)",
      "Cell \u001b[1;32mIn[5], line 1\u001b[0m\n\u001b[1;32m----> 1\u001b[0m df \u001b[38;5;241m=\u001b[39m pd\u001b[38;5;241m.\u001b[39mread_csv(\u001b[38;5;124m\"\u001b[39m\u001b[38;5;124mtransfusion.data\u001b[39m\u001b[38;5;124m\"\u001b[39m)\n",
      "File \u001b[1;32m~\\anaconda3\\Lib\\site-packages\\pandas\\io\\parsers\\readers.py:912\u001b[0m, in \u001b[0;36mread_csv\u001b[1;34m(filepath_or_buffer, sep, delimiter, header, names, index_col, usecols, dtype, engine, converters, true_values, false_values, skipinitialspace, skiprows, skipfooter, nrows, na_values, keep_default_na, na_filter, verbose, skip_blank_lines, parse_dates, infer_datetime_format, keep_date_col, date_parser, date_format, dayfirst, cache_dates, iterator, chunksize, compression, thousands, decimal, lineterminator, quotechar, quoting, doublequote, escapechar, comment, encoding, encoding_errors, dialect, on_bad_lines, delim_whitespace, low_memory, memory_map, float_precision, storage_options, dtype_backend)\u001b[0m\n\u001b[0;32m    899\u001b[0m kwds_defaults \u001b[38;5;241m=\u001b[39m _refine_defaults_read(\n\u001b[0;32m    900\u001b[0m     dialect,\n\u001b[0;32m    901\u001b[0m     delimiter,\n\u001b[1;32m   (...)\u001b[0m\n\u001b[0;32m    908\u001b[0m     dtype_backend\u001b[38;5;241m=\u001b[39mdtype_backend,\n\u001b[0;32m    909\u001b[0m )\n\u001b[0;32m    910\u001b[0m kwds\u001b[38;5;241m.\u001b[39mupdate(kwds_defaults)\n\u001b[1;32m--> 912\u001b[0m \u001b[38;5;28;01mreturn\u001b[39;00m _read(filepath_or_buffer, kwds)\n",
      "File \u001b[1;32m~\\anaconda3\\Lib\\site-packages\\pandas\\io\\parsers\\readers.py:577\u001b[0m, in \u001b[0;36m_read\u001b[1;34m(filepath_or_buffer, kwds)\u001b[0m\n\u001b[0;32m    574\u001b[0m _validate_names(kwds\u001b[38;5;241m.\u001b[39mget(\u001b[38;5;124m\"\u001b[39m\u001b[38;5;124mnames\u001b[39m\u001b[38;5;124m\"\u001b[39m, \u001b[38;5;28;01mNone\u001b[39;00m))\n\u001b[0;32m    576\u001b[0m \u001b[38;5;66;03m# Create the parser.\u001b[39;00m\n\u001b[1;32m--> 577\u001b[0m parser \u001b[38;5;241m=\u001b[39m TextFileReader(filepath_or_buffer, \u001b[38;5;241m*\u001b[39m\u001b[38;5;241m*\u001b[39mkwds)\n\u001b[0;32m    579\u001b[0m \u001b[38;5;28;01mif\u001b[39;00m chunksize \u001b[38;5;129;01mor\u001b[39;00m iterator:\n\u001b[0;32m    580\u001b[0m     \u001b[38;5;28;01mreturn\u001b[39;00m parser\n",
      "File \u001b[1;32m~\\anaconda3\\Lib\\site-packages\\pandas\\io\\parsers\\readers.py:1407\u001b[0m, in \u001b[0;36mTextFileReader.__init__\u001b[1;34m(self, f, engine, **kwds)\u001b[0m\n\u001b[0;32m   1404\u001b[0m     \u001b[38;5;28mself\u001b[39m\u001b[38;5;241m.\u001b[39moptions[\u001b[38;5;124m\"\u001b[39m\u001b[38;5;124mhas_index_names\u001b[39m\u001b[38;5;124m\"\u001b[39m] \u001b[38;5;241m=\u001b[39m kwds[\u001b[38;5;124m\"\u001b[39m\u001b[38;5;124mhas_index_names\u001b[39m\u001b[38;5;124m\"\u001b[39m]\n\u001b[0;32m   1406\u001b[0m \u001b[38;5;28mself\u001b[39m\u001b[38;5;241m.\u001b[39mhandles: IOHandles \u001b[38;5;241m|\u001b[39m \u001b[38;5;28;01mNone\u001b[39;00m \u001b[38;5;241m=\u001b[39m \u001b[38;5;28;01mNone\u001b[39;00m\n\u001b[1;32m-> 1407\u001b[0m \u001b[38;5;28mself\u001b[39m\u001b[38;5;241m.\u001b[39m_engine \u001b[38;5;241m=\u001b[39m \u001b[38;5;28mself\u001b[39m\u001b[38;5;241m.\u001b[39m_make_engine(f, \u001b[38;5;28mself\u001b[39m\u001b[38;5;241m.\u001b[39mengine)\n",
      "File \u001b[1;32m~\\anaconda3\\Lib\\site-packages\\pandas\\io\\parsers\\readers.py:1661\u001b[0m, in \u001b[0;36mTextFileReader._make_engine\u001b[1;34m(self, f, engine)\u001b[0m\n\u001b[0;32m   1659\u001b[0m     \u001b[38;5;28;01mif\u001b[39;00m \u001b[38;5;124m\"\u001b[39m\u001b[38;5;124mb\u001b[39m\u001b[38;5;124m\"\u001b[39m \u001b[38;5;129;01mnot\u001b[39;00m \u001b[38;5;129;01min\u001b[39;00m mode:\n\u001b[0;32m   1660\u001b[0m         mode \u001b[38;5;241m+\u001b[39m\u001b[38;5;241m=\u001b[39m \u001b[38;5;124m\"\u001b[39m\u001b[38;5;124mb\u001b[39m\u001b[38;5;124m\"\u001b[39m\n\u001b[1;32m-> 1661\u001b[0m \u001b[38;5;28mself\u001b[39m\u001b[38;5;241m.\u001b[39mhandles \u001b[38;5;241m=\u001b[39m get_handle(\n\u001b[0;32m   1662\u001b[0m     f,\n\u001b[0;32m   1663\u001b[0m     mode,\n\u001b[0;32m   1664\u001b[0m     encoding\u001b[38;5;241m=\u001b[39m\u001b[38;5;28mself\u001b[39m\u001b[38;5;241m.\u001b[39moptions\u001b[38;5;241m.\u001b[39mget(\u001b[38;5;124m\"\u001b[39m\u001b[38;5;124mencoding\u001b[39m\u001b[38;5;124m\"\u001b[39m, \u001b[38;5;28;01mNone\u001b[39;00m),\n\u001b[0;32m   1665\u001b[0m     compression\u001b[38;5;241m=\u001b[39m\u001b[38;5;28mself\u001b[39m\u001b[38;5;241m.\u001b[39moptions\u001b[38;5;241m.\u001b[39mget(\u001b[38;5;124m\"\u001b[39m\u001b[38;5;124mcompression\u001b[39m\u001b[38;5;124m\"\u001b[39m, \u001b[38;5;28;01mNone\u001b[39;00m),\n\u001b[0;32m   1666\u001b[0m     memory_map\u001b[38;5;241m=\u001b[39m\u001b[38;5;28mself\u001b[39m\u001b[38;5;241m.\u001b[39moptions\u001b[38;5;241m.\u001b[39mget(\u001b[38;5;124m\"\u001b[39m\u001b[38;5;124mmemory_map\u001b[39m\u001b[38;5;124m\"\u001b[39m, \u001b[38;5;28;01mFalse\u001b[39;00m),\n\u001b[0;32m   1667\u001b[0m     is_text\u001b[38;5;241m=\u001b[39mis_text,\n\u001b[0;32m   1668\u001b[0m     errors\u001b[38;5;241m=\u001b[39m\u001b[38;5;28mself\u001b[39m\u001b[38;5;241m.\u001b[39moptions\u001b[38;5;241m.\u001b[39mget(\u001b[38;5;124m\"\u001b[39m\u001b[38;5;124mencoding_errors\u001b[39m\u001b[38;5;124m\"\u001b[39m, \u001b[38;5;124m\"\u001b[39m\u001b[38;5;124mstrict\u001b[39m\u001b[38;5;124m\"\u001b[39m),\n\u001b[0;32m   1669\u001b[0m     storage_options\u001b[38;5;241m=\u001b[39m\u001b[38;5;28mself\u001b[39m\u001b[38;5;241m.\u001b[39moptions\u001b[38;5;241m.\u001b[39mget(\u001b[38;5;124m\"\u001b[39m\u001b[38;5;124mstorage_options\u001b[39m\u001b[38;5;124m\"\u001b[39m, \u001b[38;5;28;01mNone\u001b[39;00m),\n\u001b[0;32m   1670\u001b[0m )\n\u001b[0;32m   1671\u001b[0m \u001b[38;5;28;01massert\u001b[39;00m \u001b[38;5;28mself\u001b[39m\u001b[38;5;241m.\u001b[39mhandles \u001b[38;5;129;01mis\u001b[39;00m \u001b[38;5;129;01mnot\u001b[39;00m \u001b[38;5;28;01mNone\u001b[39;00m\n\u001b[0;32m   1672\u001b[0m f \u001b[38;5;241m=\u001b[39m \u001b[38;5;28mself\u001b[39m\u001b[38;5;241m.\u001b[39mhandles\u001b[38;5;241m.\u001b[39mhandle\n",
      "File \u001b[1;32m~\\anaconda3\\Lib\\site-packages\\pandas\\io\\common.py:859\u001b[0m, in \u001b[0;36mget_handle\u001b[1;34m(path_or_buf, mode, encoding, compression, memory_map, is_text, errors, storage_options)\u001b[0m\n\u001b[0;32m    854\u001b[0m \u001b[38;5;28;01melif\u001b[39;00m \u001b[38;5;28misinstance\u001b[39m(handle, \u001b[38;5;28mstr\u001b[39m):\n\u001b[0;32m    855\u001b[0m     \u001b[38;5;66;03m# Check whether the filename is to be opened in binary mode.\u001b[39;00m\n\u001b[0;32m    856\u001b[0m     \u001b[38;5;66;03m# Binary mode does not support 'encoding' and 'newline'.\u001b[39;00m\n\u001b[0;32m    857\u001b[0m     \u001b[38;5;28;01mif\u001b[39;00m ioargs\u001b[38;5;241m.\u001b[39mencoding \u001b[38;5;129;01mand\u001b[39;00m \u001b[38;5;124m\"\u001b[39m\u001b[38;5;124mb\u001b[39m\u001b[38;5;124m\"\u001b[39m \u001b[38;5;129;01mnot\u001b[39;00m \u001b[38;5;129;01min\u001b[39;00m ioargs\u001b[38;5;241m.\u001b[39mmode:\n\u001b[0;32m    858\u001b[0m         \u001b[38;5;66;03m# Encoding\u001b[39;00m\n\u001b[1;32m--> 859\u001b[0m         handle \u001b[38;5;241m=\u001b[39m \u001b[38;5;28mopen\u001b[39m(\n\u001b[0;32m    860\u001b[0m             handle,\n\u001b[0;32m    861\u001b[0m             ioargs\u001b[38;5;241m.\u001b[39mmode,\n\u001b[0;32m    862\u001b[0m             encoding\u001b[38;5;241m=\u001b[39mioargs\u001b[38;5;241m.\u001b[39mencoding,\n\u001b[0;32m    863\u001b[0m             errors\u001b[38;5;241m=\u001b[39merrors,\n\u001b[0;32m    864\u001b[0m             newline\u001b[38;5;241m=\u001b[39m\u001b[38;5;124m\"\u001b[39m\u001b[38;5;124m\"\u001b[39m,\n\u001b[0;32m    865\u001b[0m         )\n\u001b[0;32m    866\u001b[0m     \u001b[38;5;28;01melse\u001b[39;00m:\n\u001b[0;32m    867\u001b[0m         \u001b[38;5;66;03m# Binary mode\u001b[39;00m\n\u001b[0;32m    868\u001b[0m         handle \u001b[38;5;241m=\u001b[39m \u001b[38;5;28mopen\u001b[39m(handle, ioargs\u001b[38;5;241m.\u001b[39mmode)\n",
      "\u001b[1;31mFileNotFoundError\u001b[0m: [Errno 2] No such file or directory: 'transfusion.data'"
     ]
    }
   ],
   "source": [
    "df = pd.read_csv(\"transfusion.data\")"
   ]
  },
  {
   "cell_type": "markdown",
   "id": "38956660",
   "metadata": {},
   "source": [
    "## Change the column names if necessary"
   ]
  },
  {
   "cell_type": "code",
   "execution_count": null,
   "id": "6f8cfae8",
   "metadata": {
    "ExecuteTime": {
     "end_time": "2023-09-18T18:04:53.424909Z",
     "start_time": "2023-09-18T18:04:53.415788Z"
    }
   },
   "outputs": [],
   "source": [
    "new_column_names = {\n",
    "    'Recency (months)': 'Recency',\n",
    "    'Frequency (times)': 'Frequency',\n",
    "    'Monetary (c.c. blood)': 'Monetary',\n",
    "    'Time (months)': 'Time',\n",
    "    'whether he/she donated blood in March 2007': 'Target'\n",
    "                   }\n",
    "            \n",
    "df.rename(columns=new_column_names, inplace=True)"
   ]
  },
  {
   "cell_type": "markdown",
   "id": "07cbfedc",
   "metadata": {},
   "source": [
    "## Get the first 5 lines"
   ]
  },
  {
   "cell_type": "code",
   "execution_count": null,
   "id": "d5989f80",
   "metadata": {
    "ExecuteTime": {
     "end_time": "2023-09-18T18:11:06.127072Z",
     "start_time": "2023-09-18T18:11:06.112080Z"
    }
   },
   "outputs": [],
   "source": [
    "df.head(5)"
   ]
  },
  {
   "cell_type": "markdown",
   "id": "d7f71aa1",
   "metadata": {},
   "source": [
    "## Look at the general information"
   ]
  },
  {
   "cell_type": "code",
   "execution_count": null,
   "id": "46e95c38",
   "metadata": {
    "ExecuteTime": {
     "end_time": "2023-09-18T18:12:01.304040Z",
     "start_time": "2023-09-18T18:12:01.275311Z"
    }
   },
   "outputs": [],
   "source": [
    "df.info()"
   ]
  },
  {
   "cell_type": "markdown",
   "id": "77ed0c1b",
   "metadata": {},
   "source": [
    "## Look at the shape"
   ]
  },
  {
   "cell_type": "code",
   "execution_count": null,
   "id": "4140ddb2",
   "metadata": {
    "ExecuteTime": {
     "end_time": "2023-09-18T18:15:14.423165Z",
     "start_time": "2023-09-18T18:15:14.413039Z"
    }
   },
   "outputs": [],
   "source": [
    "df.shape"
   ]
  },
  {
   "cell_type": "markdown",
   "id": "d747fcce",
   "metadata": {},
   "source": [
    "## Check for missing values"
   ]
  },
  {
   "cell_type": "code",
   "execution_count": null,
   "id": "24790c65",
   "metadata": {
    "ExecuteTime": {
     "end_time": "2023-09-18T18:17:10.199001Z",
     "start_time": "2023-09-18T18:17:10.169563Z"
    }
   },
   "outputs": [],
   "source": [
    "df.isnull()"
   ]
  },
  {
   "cell_type": "code",
   "execution_count": null,
   "id": "07daa6f9",
   "metadata": {},
   "outputs": [],
   "source": [
    "df.isnull().sum()"
   ]
  },
  {
   "cell_type": "markdown",
   "id": "a188236a",
   "metadata": {},
   "source": [
    "## Check for duplicated values"
   ]
  },
  {
   "cell_type": "code",
   "execution_count": null,
   "id": "3ad5f73c",
   "metadata": {},
   "outputs": [],
   "source": [
    "df[df.duplicated()]"
   ]
  },
  {
   "cell_type": "code",
   "execution_count": null,
   "id": "4156be28",
   "metadata": {
    "ExecuteTime": {
     "end_time": "2023-09-18T18:20:20.776110Z",
     "start_time": "2023-09-18T18:20:20.762590Z"
    }
   },
   "outputs": [],
   "source": [
    "df.duplicated().sum()"
   ]
  },
  {
   "cell_type": "markdown",
   "id": "395fa96f",
   "metadata": {},
   "source": [
    "## Check the dtype"
   ]
  },
  {
   "cell_type": "code",
   "execution_count": null,
   "id": "7fd33edb",
   "metadata": {
    "ExecuteTime": {
     "end_time": "2023-09-18T18:34:38.721483Z",
     "start_time": "2023-09-18T18:34:38.708460Z"
    }
   },
   "outputs": [],
   "source": [
    "df.dtypes"
   ]
  },
  {
   "cell_type": "markdown",
   "id": "3fb1afe8",
   "metadata": {},
   "source": [
    "## Calculate the basic statistical values"
   ]
  },
  {
   "cell_type": "code",
   "execution_count": null,
   "id": "6e1d8a87",
   "metadata": {
    "ExecuteTime": {
     "end_time": "2023-09-18T18:35:36.869143Z",
     "start_time": "2023-09-18T18:35:36.771630Z"
    }
   },
   "outputs": [],
   "source": [
    "df.describe()"
   ]
  },
  {
   "cell_type": "code",
   "execution_count": null,
   "id": "6b928626",
   "metadata": {},
   "outputs": [],
   "source": [
    "df.describe().T"
   ]
  },
  {
   "cell_type": "markdown",
   "id": "fa4b439b",
   "metadata": {},
   "source": [
    "## Check unique values"
   ]
  },
  {
   "cell_type": "code",
   "execution_count": null,
   "id": "cf27aa31",
   "metadata": {
    "ExecuteTime": {
     "end_time": "2023-09-18T18:46:11.842415Z",
     "start_time": "2023-09-18T18:46:11.832367Z"
    }
   },
   "outputs": [],
   "source": [
    "df.Recency.unique()"
   ]
  },
  {
   "cell_type": "code",
   "execution_count": null,
   "id": "17e738f2",
   "metadata": {},
   "outputs": [],
   "source": [
    "df.Recency.nunique()"
   ]
  },
  {
   "cell_type": "code",
   "execution_count": null,
   "id": "622f54d1",
   "metadata": {},
   "outputs": [],
   "source": [
    "df.Target.unique()"
   ]
  },
  {
   "cell_type": "code",
   "execution_count": null,
   "id": "8688e45e",
   "metadata": {},
   "outputs": [],
   "source": [
    "df.Target.nunique()"
   ]
  },
  {
   "cell_type": "markdown",
   "id": "1ffb749a",
   "metadata": {},
   "source": [
    "## Calculate the average of 'Recency'"
   ]
  },
  {
   "cell_type": "code",
   "execution_count": null,
   "id": "9f633a3a",
   "metadata": {
    "ExecuteTime": {
     "end_time": "2023-09-18T18:48:36.728653Z",
     "start_time": "2023-09-18T18:48:36.721441Z"
    }
   },
   "outputs": [],
   "source": [
    "df.Recency.mean()"
   ]
  },
  {
   "cell_type": "markdown",
   "id": "4bb9ac76",
   "metadata": {},
   "source": [
    "## Find the highest value in 'Frequency'"
   ]
  },
  {
   "cell_type": "code",
   "execution_count": null,
   "id": "98e8fffd",
   "metadata": {
    "ExecuteTime": {
     "end_time": "2023-09-18T18:49:18.765738Z",
     "start_time": "2023-09-18T18:49:18.758283Z"
    }
   },
   "outputs": [],
   "source": [
    "df.Frequency.max()"
   ]
  },
  {
   "cell_type": "markdown",
   "id": "bd9a78fc",
   "metadata": {},
   "source": [
    "## Calculate the median of 'Time'"
   ]
  },
  {
   "cell_type": "code",
   "execution_count": null,
   "id": "131b6d73",
   "metadata": {
    "ExecuteTime": {
     "end_time": "2023-09-18T18:49:56.198362Z",
     "start_time": "2023-09-18T18:49:56.187918Z"
    }
   },
   "outputs": [],
   "source": [
    "df.Time.median()"
   ]
  },
  {
   "cell_type": "markdown",
   "id": "3b9dd3d5",
   "metadata": {},
   "source": [
    "## Calculate the standard deviation of 'Monetary'"
   ]
  },
  {
   "cell_type": "code",
   "execution_count": null,
   "id": "6b378aa9",
   "metadata": {
    "ExecuteTime": {
     "end_time": "2023-09-18T18:53:39.295970Z",
     "start_time": "2023-09-18T18:53:39.285229Z"
    }
   },
   "outputs": [],
   "source": [
    "df.Monetary.std()"
   ]
  },
  {
   "cell_type": "markdown",
   "id": "b2f92cae",
   "metadata": {},
   "source": [
    "## Count the number of unique values in 'Time'"
   ]
  },
  {
   "cell_type": "code",
   "execution_count": null,
   "id": "ceb5de5e",
   "metadata": {
    "ExecuteTime": {
     "end_time": "2023-09-18T19:00:29.684969Z",
     "start_time": "2023-09-18T19:00:29.675625Z"
    }
   },
   "outputs": [],
   "source": [
    "df.Time.unique()"
   ]
  },
  {
   "cell_type": "code",
   "execution_count": null,
   "id": "fb7da5ea",
   "metadata": {},
   "outputs": [],
   "source": [
    "df.Time.nunique()"
   ]
  },
  {
   "cell_type": "markdown",
   "id": "10fdfc75",
   "metadata": {},
   "source": [
    "## Calculate the ratio of donors in March 2007 (Target=1) to total donors"
   ]
  },
  {
   "cell_type": "code",
   "execution_count": null,
   "id": "9a271a1d",
   "metadata": {
    "ExecuteTime": {
     "end_time": "2023-09-18T19:03:59.962639Z",
     "start_time": "2023-09-18T19:03:59.949649Z"
    }
   },
   "outputs": [],
   "source": [
    "df[df[\"Target\"] == 1].count()[0]"
   ]
  },
  {
   "cell_type": "code",
   "execution_count": null,
   "id": "c823de7a",
   "metadata": {},
   "outputs": [],
   "source": [
    "df[df[\"Target\"] == 1].count()[0] / len(df)"
   ]
  },
  {
   "cell_type": "code",
   "execution_count": null,
   "id": "52c12347",
   "metadata": {},
   "outputs": [],
   "source": [
    "df.Target.value_counts()"
   ]
  },
  {
   "cell_type": "code",
   "execution_count": null,
   "id": "9ad02029",
   "metadata": {},
   "outputs": [],
   "source": [
    "df.Target.value_counts(normalize=True)"
   ]
  },
  {
   "cell_type": "markdown",
   "id": "3ac55e2c",
   "metadata": {},
   "source": [
    "## Filter donors with 'Recency' less than 10 months"
   ]
  },
  {
   "cell_type": "code",
   "execution_count": null,
   "id": "af549d50",
   "metadata": {
    "ExecuteTime": {
     "end_time": "2023-09-18T19:07:56.907556Z",
     "start_time": "2023-09-18T19:07:56.899637Z"
    }
   },
   "outputs": [],
   "source": [
    "df[df[\"Recency\"] < 10]"
   ]
  },
  {
   "cell_type": "code",
   "execution_count": null,
   "id": "9f67f5b4",
   "metadata": {},
   "outputs": [],
   "source": [
    "len(df[df[\"Recency\"] < 10])"
   ]
  },
  {
   "cell_type": "markdown",
   "id": "08e5d37d",
   "metadata": {},
   "source": [
    "## Select donors who donated at least 5 times"
   ]
  },
  {
   "cell_type": "code",
   "execution_count": null,
   "id": "2ed404bc",
   "metadata": {
    "ExecuteTime": {
     "end_time": "2023-09-18T19:11:43.280928Z",
     "start_time": "2023-09-18T19:11:43.256952Z"
    }
   },
   "outputs": [],
   "source": [
    "df[df[\"Frequency\"] >= 5]"
   ]
  },
  {
   "cell_type": "code",
   "execution_count": null,
   "id": "95072558",
   "metadata": {},
   "outputs": [],
   "source": [
    "len(df[df[\"Frequency\"] >= 5])"
   ]
  },
  {
   "cell_type": "markdown",
   "id": "6d440f96",
   "metadata": {},
   "source": [
    "## Create a new column giving the time between the first donation and the last donation"
   ]
  },
  {
   "cell_type": "code",
   "execution_count": null,
   "id": "83291cf1",
   "metadata": {
    "ExecuteTime": {
     "end_time": "2023-09-18T19:18:30.265962Z",
     "start_time": "2023-09-18T19:18:30.252541Z"
    }
   },
   "outputs": [],
   "source": [
    "df[\"Donation_Period\"] = df.Time - df.Recency\n",
    "df[\"Donation_Period\"]"
   ]
  },
  {
   "cell_type": "code",
   "execution_count": null,
   "id": "15012b04",
   "metadata": {},
   "outputs": [],
   "source": [
    "df"
   ]
  },
  {
   "cell_type": "markdown",
   "id": "ea4008ad",
   "metadata": {},
   "source": [
    "## Outlier Analysis for 'Frequency'"
   ]
  },
  {
   "cell_type": "code",
   "execution_count": null,
   "id": "f132c6f5",
   "metadata": {},
   "outputs": [],
   "source": [
    "df.describe().T"
   ]
  },
  {
   "cell_type": "code",
   "execution_count": null,
   "id": "5d09d378",
   "metadata": {
    "ExecuteTime": {
     "end_time": "2023-09-18T19:42:07.896387Z",
     "start_time": "2023-09-18T19:42:07.879087Z"
    }
   },
   "outputs": [],
   "source": [
    "q1 = df.Frequency.quantile(0.25)\n",
    "q1"
   ]
  },
  {
   "cell_type": "code",
   "execution_count": null,
   "id": "f6310050",
   "metadata": {},
   "outputs": [],
   "source": [
    "q3 = df.Frequency.quantile(0.75)\n",
    "q3"
   ]
  },
  {
   "cell_type": "code",
   "execution_count": null,
   "id": "b18712bf",
   "metadata": {},
   "outputs": [],
   "source": [
    "iqr = q3 - q1\n",
    "iqr"
   ]
  },
  {
   "cell_type": "code",
   "execution_count": null,
   "id": "890473b0",
   "metadata": {},
   "outputs": [],
   "source": [
    "df[df[\"Frequency\"] > 22]"
   ]
  },
  {
   "cell_type": "code",
   "execution_count": null,
   "id": "1b3a7bc5",
   "metadata": {},
   "outputs": [],
   "source": [
    "len(df[df[\"Frequency\"] > 22])"
   ]
  },
  {
   "cell_type": "code",
   "execution_count": null,
   "id": "b14e60dc",
   "metadata": {},
   "outputs": [],
   "source": [
    "len(df[df[\"Frequency\"] > 14.5])"
   ]
  },
  {
   "cell_type": "markdown",
   "id": "575bc6c2",
   "metadata": {},
   "source": [
    "## Create a simple scoring model based on 'Recency' and 'Frequency'"
   ]
  },
  {
   "cell_type": "code",
   "execution_count": null,
   "id": "cddd1f18",
   "metadata": {
    "ExecuteTime": {
     "end_time": "2023-09-18T20:02:39.467203Z",
     "start_time": "2023-09-18T20:02:39.440700Z"
    }
   },
   "outputs": [],
   "source": [
    "df.head()"
   ]
  },
  {
   "cell_type": "code",
   "execution_count": null,
   "id": "aa8c5703",
   "metadata": {},
   "outputs": [],
   "source": [
    "df[\"Danotiopn_Score\"] = (1 / df.Recency) + df.Frequency\n",
    "df[\"Danotiopn_Score\"]"
   ]
  },
  {
   "cell_type": "code",
   "execution_count": null,
   "id": "f5298da2",
   "metadata": {},
   "outputs": [],
   "source": [
    "df[\"Danotiopn_Score_1\"] = np.where(df[\"Recency\"] == 0, df.Frequency, (1 / df.Recency) + df.Frequency )\n",
    "df[\"Danotiopn_Score_1\"]"
   ]
  },
  {
   "cell_type": "code",
   "execution_count": null,
   "id": "309b2351",
   "metadata": {},
   "outputs": [],
   "source": [
    "df.head()"
   ]
  },
  {
   "cell_type": "markdown",
   "id": "be241240",
   "metadata": {},
   "source": [
    "## Convert Time to Years and Months (Time Series Transformation)"
   ]
  },
  {
   "cell_type": "code",
   "execution_count": null,
   "id": "40c22a09",
   "metadata": {},
   "outputs": [],
   "source": [
    " df.Time // 12"
   ]
  },
  {
   "cell_type": "code",
   "execution_count": null,
   "id": "3d6bb379",
   "metadata": {
    "ExecuteTime": {
     "end_time": "2023-09-18T20:06:51.784168Z",
     "start_time": "2023-09-18T20:06:51.756659Z"
    }
   },
   "outputs": [],
   "source": [
    "df[\"Years\"] = df.Time // 12\n",
    "df[\"Years\"]"
   ]
  },
  {
   "cell_type": "code",
   "execution_count": null,
   "id": "32a05e72",
   "metadata": {},
   "outputs": [],
   "source": [
    "df.Time % 12"
   ]
  },
  {
   "cell_type": "code",
   "execution_count": null,
   "id": "31edccc5",
   "metadata": {},
   "outputs": [],
   "source": [
    "df[\"Months\"] = df.Time % 12\n",
    "df[\"Months\"]"
   ]
  },
  {
   "cell_type": "code",
   "execution_count": null,
   "id": "7b9036e4",
   "metadata": {},
   "outputs": [],
   "source": [
    "df.head()"
   ]
  },
  {
   "cell_type": "markdown",
   "id": "2b99d330",
   "metadata": {},
   "source": [
    "## Calculate the correlation of 'Target' with other features (Correlation Analysis)"
   ]
  },
  {
   "cell_type": "code",
   "execution_count": null,
   "id": "06b6e36d",
   "metadata": {
    "ExecuteTime": {
     "end_time": "2023-09-18T20:10:29.530525Z",
     "start_time": "2023-09-18T20:10:29.517963Z"
    }
   },
   "outputs": [],
   "source": [
    "df.corr()[\"Target\"]"
   ]
  },
  {
   "cell_type": "code",
   "execution_count": null,
   "id": "a3b06bf6",
   "metadata": {},
   "outputs": [],
   "source": [
    "df.corr()[\"Target\"].sort_values(ascending = False)"
   ]
  },
  {
   "cell_type": "code",
   "execution_count": null,
   "id": "374f3260",
   "metadata": {},
   "outputs": [],
   "source": [
    "df.head()"
   ]
  },
  {
   "cell_type": "markdown",
   "id": "c8334abb",
   "metadata": {},
   "source": [
    "## Create donor groups based on 'Frequency' (Grouping and Aggregation)"
   ]
  },
  {
   "cell_type": "code",
   "execution_count": null,
   "id": "13b4b3e2",
   "metadata": {},
   "outputs": [],
   "source": [
    "df.describe().T"
   ]
  },
  {
   "cell_type": "code",
   "execution_count": null,
   "id": "118ba57c",
   "metadata": {
    "ExecuteTime": {
     "end_time": "2023-09-18T20:22:55.836436Z",
     "start_time": "2023-09-18T20:22:55.816924Z"
    }
   },
   "outputs": [],
   "source": [
    "bins = [0, 4, 14, 50 ]\n",
    "\n",
    "group_names = [\"Low\", \"Medium\", \"High\"]\n",
    "\n",
    "\n",
    "df[\"Frequency_Group\"] = pd.cut(df.Frequency, bins, labels= group_names)\n",
    "\n",
    "\n",
    "df[\"Frequency_Group\"]"
   ]
  },
  {
   "cell_type": "code",
   "execution_count": null,
   "id": "ea3062a1",
   "metadata": {},
   "outputs": [],
   "source": [
    "df.sample(10)"
   ]
  },
  {
   "cell_type": "markdown",
   "id": "74a95d03",
   "metadata": {},
   "source": [
    "## Create a new categorical variable based on 'Recency'"
   ]
  },
  {
   "cell_type": "code",
   "execution_count": null,
   "id": "298a39df",
   "metadata": {},
   "outputs": [],
   "source": [
    "df.describe().T"
   ]
  },
  {
   "cell_type": "code",
   "execution_count": null,
   "id": "1593f2ea",
   "metadata": {
    "ExecuteTime": {
     "end_time": "2023-09-18T20:27:11.415075Z",
     "start_time": "2023-09-18T20:27:11.381578Z"
    }
   },
   "outputs": [],
   "source": [
    "bins = [-1, 12, 24, 36, 75 ]\n",
    "\n",
    "group_names = [\"0-12 Months\", \"13-24 Months\", \"25-36 Months\", \"37-74 Months\"]\n",
    "\n",
    "\n",
    "df[\"Recency_Group\"] = pd.cut(df.Recency, bins, labels= group_names)\n",
    "\n",
    "\n",
    "df[\"Recency_Group\"]"
   ]
  },
  {
   "cell_type": "code",
   "execution_count": null,
   "id": "a1559843",
   "metadata": {},
   "outputs": [],
   "source": [
    "df.head()"
   ]
  },
  {
   "cell_type": "markdown",
   "id": "6f5c394f",
   "metadata": {},
   "source": [
    "## Check the distribution of the 'Target' variable"
   ]
  },
  {
   "cell_type": "code",
   "execution_count": null,
   "id": "0b0b268f",
   "metadata": {
    "ExecuteTime": {
     "end_time": "2023-09-18T20:29:46.262146Z",
     "start_time": "2023-09-18T20:29:46.249153Z"
    }
   },
   "outputs": [],
   "source": [
    "df.Target.value_counts(normalize=True)"
   ]
  },
  {
   "cell_type": "code",
   "execution_count": null,
   "id": "0fbb887b",
   "metadata": {},
   "outputs": [],
   "source": [
    "df.Frequency_Group.value_counts()"
   ]
  },
  {
   "cell_type": "code",
   "execution_count": null,
   "id": "70d45318",
   "metadata": {},
   "outputs": [],
   "source": [
    "df.Frequency_Group.value_counts(normalize=True)"
   ]
  },
  {
   "cell_type": "code",
   "execution_count": null,
   "id": "95f4252c",
   "metadata": {},
   "outputs": [],
   "source": [
    "df.Frequency_Group.unique()"
   ]
  },
  {
   "cell_type": "code",
   "execution_count": null,
   "id": "40884c8f",
   "metadata": {},
   "outputs": [],
   "source": [
    "df.Frequency_Group.nunique()"
   ]
  }
 ],
 "metadata": {
  "kernelspec": {
   "display_name": "Python 3 (ipykernel)",
   "language": "python",
   "name": "python3"
  },
  "language_info": {
   "codemirror_mode": {
    "name": "ipython",
    "version": 3
   },
   "file_extension": ".py",
   "mimetype": "text/x-python",
   "name": "python",
   "nbconvert_exporter": "python",
   "pygments_lexer": "ipython3",
   "version": "3.11.5"
  },
  "toc": {
   "base_numbering": 1,
   "nav_menu": {},
   "number_sections": true,
   "sideBar": true,
   "skip_h1_title": false,
   "title_cell": "Table of Contents",
   "title_sidebar": "Contents",
   "toc_cell": false,
   "toc_position": {
    "height": "calc(100% - 180px)",
    "left": "10px",
    "top": "150px",
    "width": "359px"
   },
   "toc_section_display": true,
   "toc_window_display": false
  }
 },
 "nbformat": 4,
 "nbformat_minor": 5
}
